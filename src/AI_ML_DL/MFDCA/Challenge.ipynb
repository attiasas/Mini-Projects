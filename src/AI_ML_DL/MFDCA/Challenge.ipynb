{
  "nbformat": 4,
  "nbformat_minor": 0,
  "metadata": {
    "colab": {
      "name": "MFDCA_Challenge_per_user_transformer.ipynb",
      "provenance": [],
      "collapsed_sections": [
        "oXSe66tCmJRr",
        "kS1Jpddkp5SC",
        "7bHjQPA3p8v0",
        "GQbBdBKTq-3r",
        "0BbBfssqwg6q",
        "pPWIjONkmG1B",
        "hSS3xd9_ls97",
        "4Eq2Vdjnlvi6",
        "N43JpUsMl03H"
      ],
      "toc_visible": true
    },
    "kernelspec": {
      "name": "python3",
      "display_name": "Python 3"
    },
    "language_info": {
      "name": "python"
    },
    "accelerator": "GPU"
  },
  "cells": [
    {
      "cell_type": "markdown",
      "metadata": {
        "id": "BeXhGuZnmJWk"
      },
      "source": [
        "# **MFDCA Challenge**\n",
        "\n",
        "\n",
        "---\n",
        "\n",
        "\n",
        "Your task will be to distinguish masqueraders from benign users, from the history of bash commands using data mining methods"
      ]
    },
    {
      "cell_type": "markdown",
      "metadata": {
        "id": "oXSe66tCmJRr"
      },
      "source": [
        "# Prepare\n",
        "---\n",
        "Imports, Constants and Downloads\n"
      ]
    },
    {
      "cell_type": "markdown",
      "metadata": {
        "id": "kS1Jpddkp5SC"
      },
      "source": [
        "## Download Data"
      ]
    },
    {
      "cell_type": "code",
      "metadata": {
        "colab": {
          "base_uri": "https://localhost:8080/"
        },
        "id": "jkxPA7BTkRZo",
        "outputId": "97d30ee5-cc2a-4ca6-a9e1-8d04b1650ef8"
      },
      "source": [
        "!gdown --id 13dmRLgev8NwRpDIiIddjUu80ts4pUTgC\n",
        "!unzip FraudedRawData.zip"
      ],
      "execution_count": 24,
      "outputs": [
        {
          "output_type": "stream",
          "text": [
            "Downloading...\n",
            "From: https://drive.google.com/uc?id=13dmRLgev8NwRpDIiIddjUu80ts4pUTgC\n",
            "To: /content/FraudedRawData.zip\n",
            "\r  0% 0.00/218k [00:00<?, ?B/s]\r100% 218k/218k [00:00<00:00, 66.0MB/s]\n"
          ],
          "name": "stdout"
        }
      ]
    },
    {
      "cell_type": "markdown",
      "metadata": {
        "id": "7bHjQPA3p8v0"
      },
      "source": [
        "## Imports"
      ]
    },
    {
      "cell_type": "code",
      "metadata": {
        "id": "hLcpf-I6kH_Q"
      },
      "source": [
        "import os,torch,time\n",
        "import numpy as np\n",
        "import csv, collections\n",
        "\n",
        "from IPython.display import Image\n",
        "import tensorflow as tf\n",
        "from tensorflow import keras\n",
        "from tensorflow.keras import layers\n",
        "\n",
        "from sklearn import metrics\n",
        "from keras.metrics import AUC"
      ],
      "execution_count": 25,
      "outputs": []
    },
    {
      "cell_type": "markdown",
      "metadata": {
        "id": "GQbBdBKTq-3r"
      },
      "source": [
        "## Constants"
      ]
    },
    {
      "cell_type": "code",
      "metadata": {
        "id": "1dMpvzL6kSlQ"
      },
      "source": [
        "data_path = \"FraudedRawData\"              # Users Data Folder\n",
        "csv_label_path = \"challengeToFill.csv\"    # Label Data File\n",
        "\n",
        "tokens_in_segment = 100                   # number of commands in a segment\n",
        "n_users_train = 10                        # number of users with labeled segments (train users)\n",
        "n_users_test = 30                         # number of users to predict on (test users)\n",
        "\n",
        "train_segment_size = 50                   # number of first segements that are known that the owner owns them  (train set)\n",
        "test_segment_size = 100                   # number of segments (after the train) that thier owner is not known (test set)\n",
        "all_segment_size = train_segment_size + test_segment_size\n",
        "\n",
        "tokens_in_train = tokens_in_segment * train_segment_size\n",
        "\n",
        "stride = 1                                # stride (of segment window) for segment parser\n",
        "\n",
        "embed_dim = 32                            # Embedding size for each token\n",
        "num_heads = 5                             # Number of attention heads\n",
        "ff_dim = 64                               # Hidden layer size in feed forward network inside transformer\n",
        "\n",
        "n_users_fake_masqueraders = 10            # how many users to sample to be a fake masqueraders\n",
        "n_seq_per_fake_masquerader = 0.1          # at range [0,1]. how much sequences to sample from each user (fake masquerader)\n",
        "\n",
        "max_score_per_user = 90 * 1 + 10 * 9            # 90 benign segments (1 point) and 10 masqueraders segments (9 points) per user\n",
        "max_score = max_score_per_user * n_users_train\n",
        "score_normalizer = (4575 / 5400) * max_score    # legal premited error margin (~0.18%) for score smoothing\n",
        "\n",
        "SEED= 42\n",
        "np.random.seed(SEED)"
      ],
      "execution_count": 26,
      "outputs": []
    },
    {
      "cell_type": "markdown",
      "metadata": {
        "id": "0BbBfssqwg6q"
      },
      "source": [
        "# Model\n",
        "---\n",
        "We will train a Transformer NN Model for **each** of the users.\n",
        "the objective of the model is to be able to seperate the user segments from other users segments\n"
      ]
    },
    {
      "cell_type": "code",
      "metadata": {
        "id": "vLFDmIsU75Ij"
      },
      "source": [
        "class TransformerBlock(layers.Layer):\n",
        "    def __init__(self, embed_dim, num_heads, ff_dim, rate=0.1):\n",
        "        super(TransformerBlock, self).__init__()\n",
        "        self.att = layers.MultiHeadAttention(num_heads=num_heads, key_dim=embed_dim)\n",
        "        self.ffn = keras.Sequential(\n",
        "            [layers.Dense(ff_dim, activation=\"relu\"), layers.Dense(embed_dim),]\n",
        "        )\n",
        "        self.layernorm1 = layers.LayerNormalization(epsilon=1e-6)\n",
        "        self.layernorm2 = layers.LayerNormalization(epsilon=1e-6)\n",
        "        self.dropout1 = layers.Dropout(rate)\n",
        "        self.dropout2 = layers.Dropout(rate)\n",
        "\n",
        "    def call(self, inputs, training):\n",
        "        attn_output = self.att(inputs, inputs)\n",
        "        attn_output = self.dropout1(attn_output, training=training)\n",
        "        out1 = self.layernorm1(inputs + attn_output)\n",
        "        ffn_output = self.ffn(out1)\n",
        "        ffn_output = self.dropout2(ffn_output, training=training)\n",
        "        return self.layernorm2(out1 + ffn_output)\n"
      ],
      "execution_count": 27,
      "outputs": []
    },
    {
      "cell_type": "code",
      "metadata": {
        "id": "zMnTVxPf6CFu"
      },
      "source": [
        "class TokenAndPositionEmbedding(layers.Layer):\n",
        "    def __init__(self, maxlen, vocab_size, embed_dim):\n",
        "        super(TokenAndPositionEmbedding, self).__init__()\n",
        "        self.token_emb = layers.Embedding(input_dim=vocab_size, output_dim=embed_dim)\n",
        "        self.pos_emb = layers.Embedding(input_dim=maxlen, output_dim=embed_dim)\n",
        "\n",
        "    def call(self, x):\n",
        "        maxlen = tf.shape(x)[-1]\n",
        "        positions = tf.range(start=0, limit=maxlen, delta=1)\n",
        "        positions = self.pos_emb(positions)\n",
        "        x = self.token_emb(x)\n",
        "        return x + positions\n"
      ],
      "execution_count": 28,
      "outputs": []
    },
    {
      "cell_type": "code",
      "metadata": {
        "id": "l0YJpQrb6CDQ"
      },
      "source": [
        "def get_model(vocab_size):\n",
        "  \"\"\"\n",
        "  Creates A Transformer Model\n",
        "  \n",
        "  :return: \n",
        "    model, keras model\n",
        "  \"\"\"\n",
        "\n",
        "  # model = keras.Sequential()\n",
        "  # model.add(TokenAndPositionEmbedding(tokens_in_segment, vocab_size, embed_dim))\n",
        "  # model.add(TransformerBlock(embed_dim, num_heads, ff_dim))\n",
        "  # model.add(layers.GlobalAveragePooling1D())\n",
        "  # model.add(layers.Dense(2, activation=\"softmax\"))\n",
        "  \n",
        "  input = keras.Input(shape=(tokens_in_segment,))\n",
        "  emb = TokenAndPositionEmbedding(tokens_in_segment, vocab_size, embed_dim)(input)\n",
        "  transformer = TransformerBlock(embed_dim, num_heads, ff_dim)(emb)\n",
        "  avg = layers.GlobalAveragePooling1D()(transformer)\n",
        "  out = layers.Dense(2, activation=\"softmax\")(avg)\n",
        "  model = keras.Model(inputs=input, outputs=out)\n",
        "\n",
        "  return model"
      ],
      "execution_count": 29,
      "outputs": []
    },
    {
      "cell_type": "code",
      "metadata": {
        "id": "Rhoj1ViKZ5j4"
      },
      "source": [
        "def plot_model(vocab_size=751):\n",
        "  \"\"\"\n",
        "  Plots the Transformer model\n",
        "  \"\"\"\n",
        "  model = get_model(vocab_size)\n",
        "  imageName = \"model.png\"\n",
        "  tf.keras.utils.plot_model(model,show_shapes=True)\n",
        "  display(Image(filename=imageName))"
      ],
      "execution_count": 30,
      "outputs": []
    },
    {
      "cell_type": "code",
      "metadata": {
        "colab": {
          "base_uri": "https://localhost:8080/",
          "height": 533
        },
        "id": "TaEm7iwS6B81",
        "outputId": "bd814a94-09dc-4aa1-a42c-737d47ec44f9"
      },
      "source": [
        "plot_model()"
      ],
      "execution_count": 31,
      "outputs": [
        {
          "output_type": "display_data",
          "data": {
            "image/png": "[encoded data removed]",
            "text/plain": [
              "<IPython.core.display.Image object>"
            ]
          },
          "metadata": {
            "tags": []
          }
        }
      ]
    },
    {
      "cell_type": "markdown",
      "metadata": {
        "id": "pPWIjONkmG1B"
      },
      "source": [
        "# Load and Pre-Process\n",
        "---\n",
        "Load all the data from disk for processing and prepare for training and testing\n",
        "\n",
        "---\n",
        "We are using transformer so we need samples to be sequences of commands. (so the transformer can learn the user history segments againts others history)\n",
        "* segment is 100 commands so our sampling window will be 100 commands\n",
        "* stride for the window = 1 (moving the window 1 command for each sample)\n",
        "\n",
        "Samples and Labels:\n",
        "* benign segments - the user's training segments (first 50). Label = [1,0]\n",
        "* masquerader segments - creating 'fake masquerader' segments by sampling from a different user's (total of 10 for each user) sequences (first 10% of the fake sequences). Label = [0,1]\n",
        "\n",
        "Test Samples:\n",
        "the last 100 segments of each user (when stride = 100)\n"
      ]
    },
    {
      "cell_type": "code",
      "metadata": {
        "id": "ufR1f_cbkS-a"
      },
      "source": [
        "def load(commands_path):\n",
        "  \"\"\"\n",
        "  Load users commands from disk, prepare segments \n",
        "  \n",
        "  :param commands_path: users segments folder\n",
        "  :return: \n",
        "    users: dict of format {user_id:(train_segments,test_segments)}\n",
        "    sequences: array of sequences (created by a moving segment window) in all the training + test sets\n",
        "    vocab: Counter, Count for all the commands in the dataset\n",
        "  \"\"\"\n",
        "  users = {}\n",
        "  sequences = []\n",
        "  vocab = collections.Counter()\n",
        "\n",
        "  for i, person_file in enumerate(os.listdir(commands_path)):\n",
        "    if person_file.startswith(\"User\"):\n",
        "      user_file_path = os.path.join(commands_path, person_file)\n",
        "      tokens = open(user_file_path).read().split()\n",
        "\n",
        "      user_vocabulary = collections.Counter(tokens)\n",
        "      vocab += user_vocabulary\n",
        "\n",
        "      train_tokens = tokens[:tokens_in_train]\n",
        "      train_segments = []\n",
        "      \n",
        "      test_tokens = tokens[tokens_in_train:]\n",
        "      test_segments = []\n",
        "      for j in range(0,len(train_tokens) - tokens_in_segment + 1,stride):\n",
        "        segment = [token for token in train_tokens[j:j+tokens_in_segment]]\n",
        "        train_segments.append(segment)\n",
        "        sequences.append(segment)\n",
        "\n",
        "      for j in range(0,len(test_tokens),tokens_in_segment):\n",
        "        segment = [token for token in test_tokens[j:j+tokens_in_segment]]\n",
        "        test_segments.append(segment)\n",
        "        sequences.append(segment)\n",
        "\n",
        "      users[int(person_file[len(\"User\"):])] = (train_segments,test_segments)\n",
        "\n",
        "  return users, sequences, vocab"
      ],
      "execution_count": 32,
      "outputs": []
    },
    {
      "cell_type": "code",
      "metadata": {
        "id": "PPZET0CUlCZP"
      },
      "source": [
        "users, sequences, vocab = load(data_path)"
      ],
      "execution_count": 33,
      "outputs": []
    },
    {
      "cell_type": "code",
      "metadata": {
        "colab": {
          "base_uri": "https://localhost:8080/"
        },
        "id": "tAvnzyUbB61b",
        "outputId": "aa5dbe9a-ab05-4b55-e47e-03087e90eab2"
      },
      "source": [
        "len(sequences) # number of sequences (created by a moving segment window) in all the training + test sets"
      ],
      "execution_count": 34,
      "outputs": [
        {
          "output_type": "execute_result",
          "data": {
            "text/plain": [
              "200040"
            ]
          },
          "metadata": {
            "tags": []
          },
          "execution_count": 34
        }
      ]
    },
    {
      "cell_type": "code",
      "metadata": {
        "colab": {
          "base_uri": "https://localhost:8080/"
        },
        "id": "PlNRGs_xUIr7",
        "outputId": "a2c1d90e-9658-47b9-aa47-1e8edb550964"
      },
      "source": [
        "len(users[0][0]) # number of training sequences for each user"
      ],
      "execution_count": 35,
      "outputs": [
        {
          "output_type": "execute_result",
          "data": {
            "text/plain": [
              "4901"
            ]
          },
          "metadata": {
            "tags": []
          },
          "execution_count": 35
        }
      ]
    },
    {
      "cell_type": "code",
      "metadata": {
        "id": "6m7m8JPXlJk0"
      },
      "source": [
        "# create a dict to translate: command -> index_command\n",
        "word_index = {word:idx for idx,word in enumerate(vocab)}"
      ],
      "execution_count": 36,
      "outputs": []
    },
    {
      "cell_type": "code",
      "metadata": {
        "id": "YLzJLT2Uy4c8"
      },
      "source": [
        "vocab_size = len(word_index)"
      ],
      "execution_count": 37,
      "outputs": []
    },
    {
      "cell_type": "code",
      "metadata": {
        "id": "SFb7uMdllLGV"
      },
      "source": [
        "def load_labels(data, path):\n",
        "    \"\"\"\n",
        "    Load the label data from a given the given file path\n",
        "    \n",
        "    :param data: users data (to get #users in the data set)\n",
        "    :param path: path to the label csv file\n",
        "    :return: \n",
        "      labels, ndarray of shape (#users, #test_segments) contains the labels for the segments (stride = 100)\n",
        "    \"\"\"\n",
        "    labels = np.zeros((len(data), all_segment_size))\n",
        "\n",
        "    user_id = 0\n",
        "    header = True\n",
        "\n",
        "    with open(path, newline='') as csvfile:\n",
        "        reader = csv.reader(csvfile, delimiter=',', quotechar='|')\n",
        "        for row in reader:\n",
        "            if header:\n",
        "                header = False\n",
        "                continue\n",
        "            row = [token for token in row if token != '']\n",
        "            if user_id < n_users_train:\n",
        "                labels[user_id,] = np.asarray(row[1:])\n",
        "\n",
        "            user_id += 1\n",
        "\n",
        "    return labels"
      ],
      "execution_count": 38,
      "outputs": []
    },
    {
      "cell_type": "code",
      "metadata": {
        "id": "D1r0OOzolMeo"
      },
      "source": [
        "labels = load_labels(users, csv_label_path)"
      ],
      "execution_count": 39,
      "outputs": []
    },
    {
      "cell_type": "code",
      "metadata": {
        "id": "iBtovP8tloKF"
      },
      "source": [
        "def extract_features(segment):\n",
        "  \"\"\"\n",
        "  Extract features from a given segment\n",
        "  convert the sequence of commands to a sequence of thier indexes\n",
        "\n",
        "  :param segment: a given segment to process\n",
        "  :return:\n",
        "    processed, a segment (sequence) of commands indexes (int)\n",
        "  \"\"\"\n",
        "  return [word_index[command] for command in segment]\n",
        "\n",
        "def get_fake_samples(users_data, current_uid, label_one_ratio=n_seq_per_fake_masquerader, label_one_users=n_users_fake_masqueraders):\n",
        "  \"\"\"\n",
        "  Creates Fake Masqueraders segments by sampling from a different user\n",
        "\n",
        "  :param users_data: dict, users segments data\n",
        "  :param current_uid: int, the id of the current user (so we can exclude him from the sampling users)\n",
        "  :param label_one_ratio: float, at range [0,1]. how much sequences to sample from each user (fake masquerader)\n",
        "  :param label_one_users: int, how many users to sample to be a fake masqueraders\n",
        "  :return: \n",
        "    X_fake, fake segments sample array\n",
        "    y_fake, fake segments label array\n",
        "  \"\"\"\n",
        "  X_fake = []\n",
        "  y_fake = []\n",
        "\n",
        "  n_fake_samples = round(len(users_data[current_uid][\"X\"]) * label_one_ratio)\n",
        "\n",
        "  labeld_one_idx = np.hstack([np.arange(current_uid),np.arange(current_uid+1,len(users_data))])\n",
        "\n",
        "  uid_samples = np.random.choice(labeld_one_idx,label_one_users,replace=False)\n",
        "\n",
        "  for i, uid in enumerate(uid_samples):\n",
        "    for sid in range(n_fake_samples):\n",
        "      X_fake.append(users_data[uid][\"X\"][sid])\n",
        "      y_fake.append([0,1])\n",
        "\n",
        "  return X_fake, y_fake\n",
        "\n",
        "def create_train_test_set(users, labels, label_one_ratio=n_seq_per_fake_masquerader, label_one_users=n_users_fake_masqueraders):\n",
        "  \"\"\"\n",
        "  Combines the informations and Creates all the needed data for training and testing\n",
        "\n",
        "  :param users: dict, users training sequences and test segments\n",
        "  :param labels: ndarray of shape (#users, #test_segments) contains the labels for the segments (stride = 100)\n",
        "  :param label_one_ratio: float, at range [0,1]. how much sequences to sample from each user (fake masquerader)\n",
        "  :param label_one_users: int, how many users to sample to be a fake masqueraders\n",
        "  :return: \n",
        "    users_data: dict, training and testing samples and labels for each user (key = user id)\n",
        "  \"\"\"\n",
        "  users_data = {}\n",
        "\n",
        "  for user_id in range(len(users)):\n",
        "    users_data[user_id] = {\"X\":[],\"y\":[],\"X_test\":[],\"y_test\":[]}\n",
        "    train_segments,test_segments = users[user_id]\n",
        "    # create training samples\n",
        "    for seg_id in range(len(train_segments)):\n",
        "      segment = train_segments[seg_id]\n",
        "\n",
        "      sample = extract_features(segment)\n",
        "      users_data[user_id][\"X\"].append(sample)\n",
        "      users_data[user_id][\"y\"].append([1,0])\n",
        "      \n",
        "    # create test samples\n",
        "    for seg_id in range(len(test_segments)):\n",
        "      segment = test_segments[seg_id]\n",
        "\n",
        "      sample = extract_features(segment)\n",
        "      label = labels[user_id][train_segment_size + seg_id]\n",
        "\n",
        "      users_data[user_id][\"X_test\"].append(sample)\n",
        "      users_data[user_id][\"y_test\"].append(label)\n",
        "\n",
        "  # create fake masqueraders samples\n",
        "  for user_id in range(len(users_data)):\n",
        "    X_fake, y_fake = get_fake_samples(users_data, user_id, label_one_ratio, label_one_users)\n",
        "    users_data[user_id][\"X\"] += X_fake\n",
        "    users_data[user_id][\"y\"] += y_fake\n",
        "\n",
        "    users_data[user_id][\"X\"] = np.asarray(users_data[user_id][\"X\"])\n",
        "    users_data[user_id][\"y\"] = np.asarray(users_data[user_id][\"y\"])\n",
        "    users_data[user_id][\"X_test\"] = np.asarray(users_data[user_id][\"X_test\"])\n",
        "    users_data[user_id][\"y_test\"] = np.asarray(users_data[user_id][\"y_test\"])\n",
        "\n",
        "  return users_data"
      ],
      "execution_count": 40,
      "outputs": []
    },
    {
      "cell_type": "code",
      "metadata": {
        "id": "ULhpkGsiFCe4"
      },
      "source": [
        "users_data = create_train_test_set(users, labels)"
      ],
      "execution_count": 41,
      "outputs": []
    },
    {
      "cell_type": "code",
      "metadata": {
        "id": "YvtVWIWjv50x",
        "colab": {
          "base_uri": "https://localhost:8080/"
        },
        "outputId": "944be05c-9964-4a2c-ebeb-70c1acf6a90f"
      },
      "source": [
        "users_data[10][\"X\"].shape # how many training samples for each user"
      ],
      "execution_count": 42,
      "outputs": [
        {
          "output_type": "execute_result",
          "data": {
            "text/plain": [
              "(9801, 100)"
            ]
          },
          "metadata": {
            "tags": []
          },
          "execution_count": 42
        }
      ]
    },
    {
      "cell_type": "code",
      "metadata": {
        "id": "-NJQW_yDv5xm",
        "colab": {
          "base_uri": "https://localhost:8080/"
        },
        "outputId": "e55f2ee2-5fa4-4eae-9791-31b7e91fbaae"
      },
      "source": [
        "users_data[10][\"y\"].shape # how many training labels for each user"
      ],
      "execution_count": 43,
      "outputs": [
        {
          "output_type": "execute_result",
          "data": {
            "text/plain": [
              "(9801, 2)"
            ]
          },
          "metadata": {
            "tags": []
          },
          "execution_count": 43
        }
      ]
    },
    {
      "cell_type": "code",
      "metadata": {
        "id": "FjQ_7suBv5uc",
        "colab": {
          "base_uri": "https://localhost:8080/"
        },
        "outputId": "35cae9e1-23ef-46fb-eedb-daf4fa887fb2"
      },
      "source": [
        "users_data[10][\"X_test\"].shape # how many test samples for each user"
      ],
      "execution_count": 44,
      "outputs": [
        {
          "output_type": "execute_result",
          "data": {
            "text/plain": [
              "(100, 100)"
            ]
          },
          "metadata": {
            "tags": []
          },
          "execution_count": 44
        }
      ]
    },
    {
      "cell_type": "code",
      "metadata": {
        "id": "CRLDGVSWv5rY",
        "colab": {
          "base_uri": "https://localhost:8080/"
        },
        "outputId": "05f4a565-b0fa-4635-d523-a2f17f6abb1d"
      },
      "source": [
        "users_data[10][\"y_test\"].shape # how many test labels for each user"
      ],
      "execution_count": 45,
      "outputs": [
        {
          "output_type": "execute_result",
          "data": {
            "text/plain": [
              "(100,)"
            ]
          },
          "metadata": {
            "tags": []
          },
          "execution_count": 45
        }
      ]
    },
    {
      "cell_type": "markdown",
      "metadata": {
        "id": "hSS3xd9_ls97"
      },
      "source": [
        "# Train\n",
        "---\n",
        "We will create a model for each user, train and predict the test samples\n"
      ]
    },
    {
      "cell_type": "code",
      "metadata": {
        "id": "Fsw20uNuwhRp",
        "colab": {
          "base_uri": "https://localhost:8080/"
        },
        "outputId": "b84dd3be-6298-4a00-e086-96dd6fac590f"
      },
      "source": [
        "start_t = time.time()\n",
        "\n",
        "# Training the Users Models\n",
        "for user_id in range(len(users_data)):\n",
        "    start_t_user = time.time()\n",
        "    # create model\n",
        "    model = get_model(vocab_size)\n",
        "    model.compile(\"adam\", \"CategoricalCrossentropy\", metrics=[\"accuracy\",AUC(name=\"auc\")])\n",
        "    users_data[user_id][\"Model\"] = model\n",
        "\n",
        "    print(\"-- Train Model, User {0:2} -----------------------------------------------------------------------------------\".format(user_id))\n",
        "    # fit\n",
        "    users_data[user_id][\"Model\"].fit(users_data[user_id][\"X\"],users_data[user_id][\"y\"],batch_size=128, epochs=1)\n",
        "    # predict probs\n",
        "    users_data[user_id][\"pred_test_prob\"] = users_data[user_id][\"Model\"].predict(users_data[user_id][\"X_test\"])\n",
        "    users_data[user_id][\"pred_train_prob\"] = users_data[user_id][\"Model\"].predict(users_data[user_id][\"X\"])\n",
        "    # convert to classes\n",
        "    users_data[user_id][\"pred_test\"] = np.argmax(users_data[user_id][\"pred_test_prob\"], axis=-1)\n",
        "    users_data[user_id][\"pred_train\"] = np.argmax(users_data[user_id][\"pred_train_prob\"], axis=-1)\n",
        "    # eval on all training samples for final metrics score\n",
        "    acc = metrics.accuracy_score(users_data[user_id][\"y\"][:,1],users_data[user_id][\"pred_train\"])\n",
        "    fpr, tpr, threshold = metrics.roc_curve(users_data[user_id][\"y\"][:,1], users_data[user_id][\"pred_train\"])\n",
        "    roc_auc = metrics.auc(fpr, tpr)\n",
        "    print(\"Done, elapsed[{} sec] metrics[Accuracy={}, AUC={}]\".format(round(time.time() - start_t_user,3),round(acc,3),round(roc_auc,3)))\n",
        "    print(\"-----------------------------------------------------------------------------------------------------------\")\n",
        "print(\"Done Training. elapsed {} sec\".format(round(time.time() - start_t,3)))"
      ],
      "execution_count": 46,
      "outputs": [
        {
          "output_type": "stream",
          "text": [
            "-- Train Model, User  0 -----------------------------------------------------------------------------------\n",
            "77/77 [==============================] - 2s 14ms/step - loss: 0.0941 - accuracy: 0.9694 - auc: 0.9610\n",
            "Done, elapsed[3.658 sec] metrics[Accuracy=1.0, AUC=1.0]\n",
            "-----------------------------------------------------------------------------------------------------------\n",
            "-- Train Model, User  1 -----------------------------------------------------------------------------------\n",
            "77/77 [==============================] - 2s 14ms/step - loss: 0.1860 - accuracy: 0.9162 - auc: 0.8906\n",
            "Done, elapsed[3.601 sec] metrics[Accuracy=0.958, AUC=0.958]\n",
            "-----------------------------------------------------------------------------------------------------------\n",
            "-- Train Model, User  2 -----------------------------------------------------------------------------------\n",
            "77/77 [==============================] - 2s 13ms/step - loss: 0.0870 - accuracy: 0.9615 - auc: 0.9372\n",
            "Done, elapsed[3.527 sec] metrics[Accuracy=1.0, AUC=1.0]\n",
            "-----------------------------------------------------------------------------------------------------------\n",
            "-- Train Model, User  3 -----------------------------------------------------------------------------------\n",
            "77/77 [==============================] - 2s 13ms/step - loss: 0.1140 - accuracy: 0.9590 - auc: 0.9346\n",
            "Done, elapsed[3.857 sec] metrics[Accuracy=0.996, AUC=0.996]\n",
            "-----------------------------------------------------------------------------------------------------------\n",
            "-- Train Model, User  4 -----------------------------------------------------------------------------------\n",
            "77/77 [==============================] - 2s 13ms/step - loss: 0.0443 - accuracy: 0.9841 - auc: 0.9827\n",
            "Done, elapsed[3.52 sec] metrics[Accuracy=1.0, AUC=1.0]\n",
            "-----------------------------------------------------------------------------------------------------------\n",
            "-- Train Model, User  5 -----------------------------------------------------------------------------------\n",
            "77/77 [==============================] - 2s 13ms/step - loss: 0.1336 - accuracy: 0.9448 - auc: 0.9176\n",
            "Done, elapsed[3.481 sec] metrics[Accuracy=1.0, AUC=1.0]\n",
            "-----------------------------------------------------------------------------------------------------------\n",
            "-- Train Model, User  6 -----------------------------------------------------------------------------------\n",
            "77/77 [==============================] - 2s 14ms/step - loss: 0.1101 - accuracy: 0.9599 - auc: 0.9437\n",
            "Done, elapsed[3.6 sec] metrics[Accuracy=1.0, AUC=1.0]\n",
            "-----------------------------------------------------------------------------------------------------------\n",
            "-- Train Model, User  7 -----------------------------------------------------------------------------------\n",
            "77/77 [==============================] - 2s 14ms/step - loss: 0.1369 - accuracy: 0.9434 - auc: 0.9265\n",
            "Done, elapsed[3.58 sec] metrics[Accuracy=0.996, AUC=0.996]\n",
            "-----------------------------------------------------------------------------------------------------------\n",
            "-- Train Model, User  8 -----------------------------------------------------------------------------------\n",
            "77/77 [==============================] - 2s 14ms/step - loss: 0.1103 - accuracy: 0.9584 - auc: 0.9248\n",
            "Done, elapsed[3.569 sec] metrics[Accuracy=1.0, AUC=1.0]\n",
            "-----------------------------------------------------------------------------------------------------------\n",
            "-- Train Model, User  9 -----------------------------------------------------------------------------------\n",
            "77/77 [==============================] - 2s 13ms/step - loss: 0.0831 - accuracy: 0.9695 - auc: 0.9593\n",
            "Done, elapsed[3.532 sec] metrics[Accuracy=1.0, AUC=1.0]\n",
            "-----------------------------------------------------------------------------------------------------------\n",
            "-- Train Model, User 10 -----------------------------------------------------------------------------------\n",
            "77/77 [==============================] - 3s 14ms/step - loss: 0.0934 - accuracy: 0.9664 - auc: 0.9473\n",
            "Done, elapsed[3.905 sec] metrics[Accuracy=1.0, AUC=1.0]\n",
            "-----------------------------------------------------------------------------------------------------------\n",
            "-- Train Model, User 11 -----------------------------------------------------------------------------------\n",
            "77/77 [==============================] - 2s 14ms/step - loss: 0.1296 - accuracy: 0.9515 - auc: 0.9382\n",
            "Done, elapsed[3.547 sec] metrics[Accuracy=1.0, AUC=1.0]\n",
            "-----------------------------------------------------------------------------------------------------------\n",
            "-- Train Model, User 12 -----------------------------------------------------------------------------------\n",
            "77/77 [==============================] - 2s 14ms/step - loss: 0.1246 - accuracy: 0.9567 - auc: 0.9354\n",
            "Done, elapsed[3.676 sec] metrics[Accuracy=0.996, AUC=0.996]\n",
            "-----------------------------------------------------------------------------------------------------------\n",
            "-- Train Model, User 13 -----------------------------------------------------------------------------------\n",
            "77/77 [==============================] - 2s 13ms/step - loss: 0.1389 - accuracy: 0.9466 - auc: 0.9166\n",
            "Done, elapsed[3.502 sec] metrics[Accuracy=1.0, AUC=1.0]\n",
            "-----------------------------------------------------------------------------------------------------------\n",
            "-- Train Model, User 14 -----------------------------------------------------------------------------------\n",
            "77/77 [==============================] - 2s 14ms/step - loss: 0.1563 - accuracy: 0.9345 - auc: 0.9266\n",
            "Done, elapsed[3.504 sec] metrics[Accuracy=0.988, AUC=0.988]\n",
            "-----------------------------------------------------------------------------------------------------------\n",
            "-- Train Model, User 15 -----------------------------------------------------------------------------------\n",
            "77/77 [==============================] - 2s 13ms/step - loss: 0.0371 - accuracy: 0.9885 - auc: 0.9897\n",
            "Done, elapsed[3.503 sec] metrics[Accuracy=1.0, AUC=1.0]\n",
            "-----------------------------------------------------------------------------------------------------------\n",
            "-- Train Model, User 16 -----------------------------------------------------------------------------------\n",
            "77/77 [==============================] - 2s 14ms/step - loss: 0.1290 - accuracy: 0.9546 - auc: 0.9378\n",
            "Done, elapsed[3.564 sec] metrics[Accuracy=0.996, AUC=0.996]\n",
            "-----------------------------------------------------------------------------------------------------------\n",
            "-- Train Model, User 17 -----------------------------------------------------------------------------------\n",
            "77/77 [==============================] - 2s 13ms/step - loss: 0.0633 - accuracy: 0.9747 - auc: 0.9530\n",
            "Done, elapsed[4.095 sec] metrics[Accuracy=1.0, AUC=1.0]\n",
            "-----------------------------------------------------------------------------------------------------------\n",
            "-- Train Model, User 18 -----------------------------------------------------------------------------------\n",
            "77/77 [==============================] - 2s 13ms/step - loss: 0.1385 - accuracy: 0.9428 - auc: 0.9053\n",
            "Done, elapsed[3.49 sec] metrics[Accuracy=1.0, AUC=1.0]\n",
            "-----------------------------------------------------------------------------------------------------------\n",
            "-- Train Model, User 19 -----------------------------------------------------------------------------------\n",
            "77/77 [==============================] - 2s 13ms/step - loss: 0.1995 - accuracy: 0.9088 - auc: 0.8697\n",
            "Done, elapsed[3.522 sec] metrics[Accuracy=0.99, AUC=0.99]\n",
            "-----------------------------------------------------------------------------------------------------------\n",
            "-- Train Model, User 20 -----------------------------------------------------------------------------------\n",
            "77/77 [==============================] - 2s 13ms/step - loss: 0.0708 - accuracy: 0.9760 - auc: 0.9655\n",
            "Done, elapsed[3.506 sec] metrics[Accuracy=1.0, AUC=1.0]\n",
            "-----------------------------------------------------------------------------------------------------------\n",
            "-- Train Model, User 21 -----------------------------------------------------------------------------------\n",
            "77/77 [==============================] - 2s 14ms/step - loss: 0.0552 - accuracy: 0.9788 - auc: 0.9644\n",
            "Done, elapsed[3.552 sec] metrics[Accuracy=1.0, AUC=1.0]\n",
            "-----------------------------------------------------------------------------------------------------------\n",
            "-- Train Model, User 22 -----------------------------------------------------------------------------------\n",
            "77/77 [==============================] - 2s 13ms/step - loss: 0.1503 - accuracy: 0.9409 - auc: 0.8811\n",
            "Done, elapsed[3.481 sec] metrics[Accuracy=1.0, AUC=1.0]\n",
            "-----------------------------------------------------------------------------------------------------------\n",
            "-- Train Model, User 23 -----------------------------------------------------------------------------------\n",
            "77/77 [==============================] - 2s 13ms/step - loss: 0.1540 - accuracy: 0.9396 - auc: 0.9234\n",
            "Done, elapsed[3.524 sec] metrics[Accuracy=0.996, AUC=0.996]\n",
            "-----------------------------------------------------------------------------------------------------------\n",
            "-- Train Model, User 24 -----------------------------------------------------------------------------------\n",
            "77/77 [==============================] - 2s 13ms/step - loss: 0.1179 - accuracy: 0.9578 - auc: 0.9559\n",
            "Done, elapsed[3.513 sec] metrics[Accuracy=0.999, AUC=0.999]\n",
            "-----------------------------------------------------------------------------------------------------------\n",
            "-- Train Model, User 25 -----------------------------------------------------------------------------------\n",
            "77/77 [==============================] - 2s 13ms/step - loss: 0.1533 - accuracy: 0.9405 - auc: 0.9046\n",
            "Done, elapsed[3.53 sec] metrics[Accuracy=0.994, AUC=0.994]\n",
            "-----------------------------------------------------------------------------------------------------------\n",
            "-- Train Model, User 26 -----------------------------------------------------------------------------------\n",
            "77/77 [==============================] - 2s 13ms/step - loss: 0.0317 - accuracy: 0.9928 - auc: 0.9835\n",
            "Done, elapsed[3.504 sec] metrics[Accuracy=1.0, AUC=1.0]\n",
            "-----------------------------------------------------------------------------------------------------------\n",
            "-- Train Model, User 27 -----------------------------------------------------------------------------------\n",
            "77/77 [==============================] - 3s 14ms/step - loss: 0.1177 - accuracy: 0.9537 - auc: 0.9456\n",
            "Done, elapsed[4.05 sec] metrics[Accuracy=0.985, AUC=0.985]\n",
            "-----------------------------------------------------------------------------------------------------------\n",
            "-- Train Model, User 28 -----------------------------------------------------------------------------------\n",
            "77/77 [==============================] - 2s 14ms/step - loss: 0.0921 - accuracy: 0.9629 - auc: 0.9416\n",
            "Done, elapsed[3.551 sec] metrics[Accuracy=1.0, AUC=1.0]\n",
            "-----------------------------------------------------------------------------------------------------------\n",
            "-- Train Model, User 29 -----------------------------------------------------------------------------------\n",
            "77/77 [==============================] - 2s 14ms/step - loss: 0.1049 - accuracy: 0.9567 - auc: 0.9443\n",
            "Done, elapsed[3.533 sec] metrics[Accuracy=1.0, AUC=1.0]\n",
            "-----------------------------------------------------------------------------------------------------------\n",
            "-- Train Model, User 30 -----------------------------------------------------------------------------------\n",
            "77/77 [==============================] - 2s 14ms/step - loss: 0.0779 - accuracy: 0.9703 - auc: 0.9513\n",
            "Done, elapsed[3.531 sec] metrics[Accuracy=1.0, AUC=1.0]\n",
            "-----------------------------------------------------------------------------------------------------------\n",
            "-- Train Model, User 31 -----------------------------------------------------------------------------------\n",
            "77/77 [==============================] - 2s 14ms/step - loss: 0.0502 - accuracy: 0.9828 - auc: 0.9709\n",
            "Done, elapsed[3.575 sec] metrics[Accuracy=1.0, AUC=1.0]\n",
            "-----------------------------------------------------------------------------------------------------------\n",
            "-- Train Model, User 32 -----------------------------------------------------------------------------------\n",
            "77/77 [==============================] - 2s 14ms/step - loss: 0.1140 - accuracy: 0.9604 - auc: 0.9320\n",
            "Done, elapsed[3.546 sec] metrics[Accuracy=0.991, AUC=0.991]\n",
            "-----------------------------------------------------------------------------------------------------------\n",
            "-- Train Model, User 33 -----------------------------------------------------------------------------------\n",
            "77/77 [==============================] - 2s 14ms/step - loss: 0.1368 - accuracy: 0.9448 - auc: 0.9180\n",
            "Done, elapsed[3.578 sec] metrics[Accuracy=0.999, AUC=0.999]\n",
            "-----------------------------------------------------------------------------------------------------------\n",
            "-- Train Model, User 34 -----------------------------------------------------------------------------------\n",
            "77/77 [==============================] - 2s 14ms/step - loss: 0.1924 - accuracy: 0.9118 - auc: 0.9100\n",
            "Done, elapsed[3.533 sec] metrics[Accuracy=0.977, AUC=0.977]\n",
            "-----------------------------------------------------------------------------------------------------------\n",
            "-- Train Model, User 35 -----------------------------------------------------------------------------------\n",
            "77/77 [==============================] - 2s 13ms/step - loss: 0.0666 - accuracy: 0.9776 - auc: 0.9531\n",
            "Done, elapsed[3.759 sec] metrics[Accuracy=1.0, AUC=1.0]\n",
            "-----------------------------------------------------------------------------------------------------------\n",
            "-- Train Model, User 36 -----------------------------------------------------------------------------------\n",
            "77/77 [==============================] - 2s 13ms/step - loss: 0.1780 - accuracy: 0.9295 - auc: 0.9085\n",
            "Done, elapsed[3.544 sec] metrics[Accuracy=0.978, AUC=0.978]\n",
            "-----------------------------------------------------------------------------------------------------------\n",
            "-- Train Model, User 37 -----------------------------------------------------------------------------------\n",
            "77/77 [==============================] - 2s 13ms/step - loss: 0.1961 - accuracy: 0.9207 - auc: 0.8836\n",
            "Done, elapsed[3.499 sec] metrics[Accuracy=0.988, AUC=0.988]\n",
            "-----------------------------------------------------------------------------------------------------------\n",
            "-- Train Model, User 38 -----------------------------------------------------------------------------------\n",
            "77/77 [==============================] - 2s 14ms/step - loss: 0.0821 - accuracy: 0.9731 - auc: 0.9674\n",
            "Done, elapsed[4.195 sec] metrics[Accuracy=1.0, AUC=1.0]\n",
            "-----------------------------------------------------------------------------------------------------------\n",
            "-- Train Model, User 39 -----------------------------------------------------------------------------------\n",
            "77/77 [==============================] - 2s 13ms/step - loss: 0.0552 - accuracy: 0.9819 - auc: 0.9691\n",
            "Done, elapsed[3.593 sec] metrics[Accuracy=1.0, AUC=1.0]\n",
            "-----------------------------------------------------------------------------------------------------------\n",
            "Done Training. elapsed 144.348 sec\n"
          ],
          "name": "stdout"
        }
      ]
    },
    {
      "cell_type": "markdown",
      "metadata": {
        "id": "4Eq2Vdjnlvi6"
      },
      "source": [
        "# Evaluate\n",
        "---\n",
        "We created a balanced training set:\n",
        "10 (users) * 0.1 (user sequences) = 1 user sequences\n",
        "\n",
        "for each of the 'Training Users' (first 10) We will evaluate:\n",
        "* Accuaracy\n",
        "* AUC\n",
        "* Confusion Matrix\n",
        "* Classification Report\n",
        "* Assigment Score\n",
        "* Assigment Score (smoothed)\n",
        "\n",
        "Assigment Score:\n",
        "* 1 point for predicing correct a benign user (label=0)\n",
        "* 9 points for predicing correct a masquerader user (label=1)\n",
        "\n",
        "** Assigment Score - normalized (allows up to 0.18% errors) will be calculated as well\n",
        "\n",
        "For Test Users (last 30) we will count how many masquerader segments they predicted and compare to the training\n",
        "\n"
      ]
    },
    {
      "cell_type": "code",
      "metadata": {
        "id": "RvMKytjbFdYu"
      },
      "source": [
        "def smooth(arr,n=10):\n",
        "  \"\"\"\n",
        "  Smooth a given user segments prediction so that only the n'th highest probs will be\n",
        "  consider as masqueraders (only n labels will be equal to 1 the others to 0)\n",
        "  :param arr: array of floats (range [0,1]) a given array to smooth\n",
        "  :param n: number of masqueraders segments to create from the probs\n",
        "  :return: \n",
        "    smooth: smoothed arr with prediction classes\n",
        "  \"\"\"\n",
        "  sorted_index_array = np.argsort(arr)\n",
        "  sorted_array = arr[sorted_index_array]\n",
        "\n",
        "  curr_n = n\n",
        "  try_left = 3\n",
        "  res_arr = arr.copy()\n",
        "  while curr_n > 1:\n",
        "    n_max = sorted_array[-curr_n : -curr_n+1]\n",
        "\n",
        "    res_arr[res_arr < n_max] = 0\n",
        "    res_arr[res_arr >= n_max] = 1\n",
        "\n",
        "    if res_arr.sum() > n:\n",
        "      curr_n -= 1\n",
        "      try_left -= 1\n",
        "      res_arr = arr.copy()\n",
        "    else:\n",
        "      break\n",
        "  return res_arr"
      ],
      "execution_count": 47,
      "outputs": []
    },
    {
      "cell_type": "code",
      "metadata": {
        "id": "WAvscncLzQSQ"
      },
      "source": [
        "def eval(users_data):\n",
        "  \"\"\"\n",
        "  Evaluate the models results\n",
        "\n",
        "  :param users_data: dict, (key = user id) a given users info (trained model and samples) to eval\n",
        "  :return: \n",
        "    result: ndarray of shape (#test users, #test segments). test segments results with predictions\n",
        "  \"\"\"\n",
        "  result = np.zeros((n_users_test,test_segment_size))\n",
        "  test_score = 0\n",
        "  test_score_smooth = 0\n",
        "\n",
        "  res_test_set = np.zeros((n_users_train,test_segment_size))\n",
        "\n",
        "  for user_id in range(len(users_data)):\n",
        "    \n",
        "    if user_id < n_users_train:\n",
        "      \n",
        "      user_score = 0\n",
        "      user_score_smooth = 0\n",
        "      n_pred_one_but_zero = 0\n",
        "      n_pred_zero_but_one = 0\n",
        "\n",
        "      smooth_pred = smooth(users_data[user_id][\"pred_test_prob\"][:,1])\n",
        "\n",
        "      for i, pred in enumerate(users_data[user_id][\"pred_test\"]):\n",
        "        if pred == users_data[user_id][\"y_test\"][i]:\n",
        "          user_score += 9 if users_data[user_id][\"y_test\"][i] == 1 else 1\n",
        "        elif users_data[user_id][\"y_test\"][i] == 1:\n",
        "          n_pred_zero_but_one += 1\n",
        "        else:\n",
        "          n_pred_one_but_zero += 1\n",
        "        \n",
        "        if smooth_pred[i] == users_data[user_id][\"y_test\"][i]:\n",
        "          user_score_smooth += 9 if users_data[user_id][\"y_test\"][i] == 1 else 1\n",
        "\n",
        "      acc = metrics.accuracy_score(users_data[user_id][\"y_test\"],users_data[user_id][\"pred_test\"])\n",
        "      fpr, tpr, threshold = metrics.roc_curve(users_data[user_id][\"y_test\"], users_data[user_id][\"pred_test\"])\n",
        "      roc_auc = metrics.auc(fpr, tpr)\n",
        "      cf_mat = metrics.confusion_matrix(users_data[user_id][\"y_test\"], users_data[user_id][\"pred_test\"])\n",
        "      cf_rep = metrics.classification_report(users_data[user_id][\"y_test\"], users_data[user_id][\"pred_test\"])\n",
        "\n",
        "      test_score += user_score\n",
        "      test_score_smooth += user_score_smooth\n",
        "      res_test_set[user_id,] = users_data[user_id][\"pred_test\"].reshape(-1)\n",
        "      print(\"== User: {} ================================\\n* Accuracy: {}, AUC: {}.\\n* Score: {}/{} ({}%), Score-Smooth: {}/{} ({}%).\\n* confusion_mat:\\n  Predicted '1' but '0' = {} | Predicted '0' but '1' = {} | FakeCount[{}/{}].\\n{}\\n\\n* classification_report:\\n{}\\n===========================================\".format(user_id,acc,round(roc_auc,3),user_score,max_score_per_user,round(user_score/max_score_per_user,3),user_score_smooth,max_score_per_user,round(user_score_smooth/max_score_per_user,3),n_pred_one_but_zero,n_pred_zero_but_one,users_data[user_id][\"pred_test\"].reshape(-1).sum(),10,cf_mat,cf_rep))\n",
        "\n",
        "    else:\n",
        "      n_fakes = users_data[user_id][\"pred_test\"].sum()\n",
        "      result[user_id - n_users_train,] = users_data[user_id][\"pred_test\"].reshape(-1)\n",
        "      print(\"User: {} (TEST USER) Fakes Found: {}/{}\".format(user_id,n_fakes,10))\n",
        "\n",
        "  print()    \n",
        "  print(\"Total Train Score: {}/{} ({}%) | Normalized = {}%\".format(test_score,max_score,round(test_score/max_score,3),min(1,round(test_score/score_normalizer,3))))\n",
        "  print(\"Total Train Score - Smooth: {}/{} ({}%) | Normalized = {}%\".format(test_score_smooth,max_score,round(test_score_smooth/max_score,3),min(1,round(test_score/score_normalizer,3))))\n",
        "  print(\"Fakes Found in Train: {}/{} ({}%)\".format(res_test_set.sum(),100,round(res_test_set.sum()/100,3)))\n",
        "\n",
        "  return np.asarray(result,dtype=int)\n"
      ],
      "execution_count": 48,
      "outputs": []
    },
    {
      "cell_type": "code",
      "metadata": {
        "id": "efHnIWsJ5QQb",
        "colab": {
          "base_uri": "https://localhost:8080/"
        },
        "outputId": "86324cb0-d5f9-44f0-b1f7-c09124e58c18"
      },
      "source": [
        "result = eval(users_data)"
      ],
      "execution_count": 49,
      "outputs": [
        {
          "output_type": "stream",
          "text": [
            "== User: 0 ================================\n",
            "* Accuracy: 0.9, AUC: 0.944.\n",
            "* Score: 170/180 (0.944%), Score-Smooth: 160/180 (0.889%).\n",
            "* confusion_mat:\n",
            "  Predicted '1' but '0' = 10 | Predicted '0' but '1' = 0 | FakeCount[20/10].\n",
            "[[80 10]\n",
            " [ 0 10]]\n",
            "\n",
            "* classification_report:\n",
            "              precision    recall  f1-score   support\n",
            "\n",
            "         0.0       1.00      0.89      0.94        90\n",
            "         1.0       0.50      1.00      0.67        10\n",
            "\n",
            "    accuracy                           0.90       100\n",
            "   macro avg       0.75      0.94      0.80       100\n",
            "weighted avg       0.95      0.90      0.91       100\n",
            "\n",
            "===========================================\n",
            "== User: 1 ================================\n",
            "* Accuracy: 0.7, AUC: 0.744.\n",
            "* Score: 134/180 (0.744%), Score-Smooth: 130/180 (0.722%).\n",
            "* confusion_mat:\n",
            "  Predicted '1' but '0' = 28 | Predicted '0' but '1' = 2 | FakeCount[36/10].\n",
            "[[62 28]\n",
            " [ 2  8]]\n",
            "\n",
            "* classification_report:\n",
            "              precision    recall  f1-score   support\n",
            "\n",
            "         0.0       0.97      0.69      0.81        90\n",
            "         1.0       0.22      0.80      0.35        10\n",
            "\n",
            "    accuracy                           0.70       100\n",
            "   macro avg       0.60      0.74      0.58       100\n",
            "weighted avg       0.89      0.70      0.76       100\n",
            "\n",
            "===========================================\n",
            "== User: 2 ================================\n",
            "* Accuracy: 0.96, AUC: 0.978.\n",
            "* Score: 176/180 (0.978%), Score-Smooth: 150/180 (0.833%).\n",
            "* confusion_mat:\n",
            "  Predicted '1' but '0' = 4 | Predicted '0' but '1' = 0 | FakeCount[14/10].\n",
            "[[86  4]\n",
            " [ 0 10]]\n",
            "\n",
            "* classification_report:\n",
            "              precision    recall  f1-score   support\n",
            "\n",
            "         0.0       1.00      0.96      0.98        90\n",
            "         1.0       0.71      1.00      0.83        10\n",
            "\n",
            "    accuracy                           0.96       100\n",
            "   macro avg       0.86      0.98      0.91       100\n",
            "weighted avg       0.97      0.96      0.96       100\n",
            "\n",
            "===========================================\n",
            "== User: 3 ================================\n",
            "* Accuracy: 0.95, AUC: 0.883.\n",
            "* Score: 159/180 (0.883%), Score-Smooth: 160/180 (0.889%).\n",
            "* confusion_mat:\n",
            "  Predicted '1' but '0' = 3 | Predicted '0' but '1' = 2 | FakeCount[11/10].\n",
            "[[87  3]\n",
            " [ 2  8]]\n",
            "\n",
            "* classification_report:\n",
            "              precision    recall  f1-score   support\n",
            "\n",
            "         0.0       0.98      0.97      0.97        90\n",
            "         1.0       0.73      0.80      0.76        10\n",
            "\n",
            "    accuracy                           0.95       100\n",
            "   macro avg       0.85      0.88      0.87       100\n",
            "weighted avg       0.95      0.95      0.95       100\n",
            "\n",
            "===========================================\n",
            "== User: 4 ================================\n",
            "* Accuracy: 0.92, AUC: 0.911.\n",
            "* Score: 164/180 (0.911%), Score-Smooth: 160/180 (0.889%).\n",
            "* confusion_mat:\n",
            "  Predicted '1' but '0' = 7 | Predicted '0' but '1' = 1 | FakeCount[16/10].\n",
            "[[83  7]\n",
            " [ 1  9]]\n",
            "\n",
            "* classification_report:\n",
            "              precision    recall  f1-score   support\n",
            "\n",
            "         0.0       0.99      0.92      0.95        90\n",
            "         1.0       0.56      0.90      0.69        10\n",
            "\n",
            "    accuracy                           0.92       100\n",
            "   macro avg       0.78      0.91      0.82       100\n",
            "weighted avg       0.95      0.92      0.93       100\n",
            "\n",
            "===========================================\n",
            "== User: 5 ================================\n",
            "* Accuracy: 0.82, AUC: 0.633.\n",
            "* Score: 114/180 (0.633%), Score-Smooth: 110/180 (0.611%).\n",
            "* confusion_mat:\n",
            "  Predicted '1' but '0' = 12 | Predicted '0' but '1' = 6 | FakeCount[16/10].\n",
            "[[78 12]\n",
            " [ 6  4]]\n",
            "\n",
            "* classification_report:\n",
            "              precision    recall  f1-score   support\n",
            "\n",
            "         0.0       0.93      0.87      0.90        90\n",
            "         1.0       0.25      0.40      0.31        10\n",
            "\n",
            "    accuracy                           0.82       100\n",
            "   macro avg       0.59      0.63      0.60       100\n",
            "weighted avg       0.86      0.82      0.84       100\n",
            "\n",
            "===========================================\n",
            "== User: 6 ================================\n",
            "* Accuracy: 0.98, AUC: 0.944.\n",
            "* Score: 170/180 (0.944%), Score-Smooth: 170/180 (0.944%).\n",
            "* confusion_mat:\n",
            "  Predicted '1' but '0' = 1 | Predicted '0' but '1' = 1 | FakeCount[10/10].\n",
            "[[89  1]\n",
            " [ 1  9]]\n",
            "\n",
            "* classification_report:\n",
            "              precision    recall  f1-score   support\n",
            "\n",
            "         0.0       0.99      0.99      0.99        90\n",
            "         1.0       0.90      0.90      0.90        10\n",
            "\n",
            "    accuracy                           0.98       100\n",
            "   macro avg       0.94      0.94      0.94       100\n",
            "weighted avg       0.98      0.98      0.98       100\n",
            "\n",
            "===========================================\n",
            "== User: 7 ================================\n",
            "* Accuracy: 0.71, AUC: 0.794.\n",
            "* Score: 143/180 (0.794%), Score-Smooth: 90/180 (0.5%).\n",
            "* confusion_mat:\n",
            "  Predicted '1' but '0' = 28 | Predicted '0' but '1' = 1 | FakeCount[37/10].\n",
            "[[62 28]\n",
            " [ 1  9]]\n",
            "\n",
            "* classification_report:\n",
            "              precision    recall  f1-score   support\n",
            "\n",
            "         0.0       0.98      0.69      0.81        90\n",
            "         1.0       0.24      0.90      0.38        10\n",
            "\n",
            "    accuracy                           0.71       100\n",
            "   macro avg       0.61      0.79      0.60       100\n",
            "weighted avg       0.91      0.71      0.77       100\n",
            "\n",
            "===========================================\n",
            "== User: 8 ================================\n",
            "* Accuracy: 1.0, AUC: 1.0.\n",
            "* Score: 180/180 (1.0%), Score-Smooth: 180/180 (1.0%).\n",
            "* confusion_mat:\n",
            "  Predicted '1' but '0' = 0 | Predicted '0' but '1' = 0 | FakeCount[10/10].\n",
            "[[90  0]\n",
            " [ 0 10]]\n",
            "\n",
            "* classification_report:\n",
            "              precision    recall  f1-score   support\n",
            "\n",
            "         0.0       1.00      1.00      1.00        90\n",
            "         1.0       1.00      1.00      1.00        10\n",
            "\n",
            "    accuracy                           1.00       100\n",
            "   macro avg       1.00      1.00      1.00       100\n",
            "weighted avg       1.00      1.00      1.00       100\n",
            "\n",
            "===========================================\n",
            "== User: 9 ================================\n",
            "* Accuracy: 0.98, AUC: 0.989.\n",
            "* Score: 178/180 (0.989%), Score-Smooth: 180/180 (1.0%).\n",
            "* confusion_mat:\n",
            "  Predicted '1' but '0' = 2 | Predicted '0' but '1' = 0 | FakeCount[12/10].\n",
            "[[88  2]\n",
            " [ 0 10]]\n",
            "\n",
            "* classification_report:\n",
            "              precision    recall  f1-score   support\n",
            "\n",
            "         0.0       1.00      0.98      0.99        90\n",
            "         1.0       0.83      1.00      0.91        10\n",
            "\n",
            "    accuracy                           0.98       100\n",
            "   macro avg       0.92      0.99      0.95       100\n",
            "weighted avg       0.98      0.98      0.98       100\n",
            "\n",
            "===========================================\n",
            "User: 10 (TEST USER) Fakes Found: 10/10\n",
            "User: 11 (TEST USER) Fakes Found: 26/10\n",
            "User: 12 (TEST USER) Fakes Found: 48/10\n",
            "User: 13 (TEST USER) Fakes Found: 8/10\n",
            "User: 14 (TEST USER) Fakes Found: 22/10\n",
            "User: 15 (TEST USER) Fakes Found: 13/10\n",
            "User: 16 (TEST USER) Fakes Found: 13/10\n",
            "User: 17 (TEST USER) Fakes Found: 12/10\n",
            "User: 18 (TEST USER) Fakes Found: 8/10\n",
            "User: 19 (TEST USER) Fakes Found: 11/10\n",
            "User: 20 (TEST USER) Fakes Found: 10/10\n",
            "User: 21 (TEST USER) Fakes Found: 10/10\n",
            "User: 22 (TEST USER) Fakes Found: 11/10\n",
            "User: 23 (TEST USER) Fakes Found: 9/10\n",
            "User: 24 (TEST USER) Fakes Found: 7/10\n",
            "User: 25 (TEST USER) Fakes Found: 10/10\n",
            "User: 26 (TEST USER) Fakes Found: 10/10\n",
            "User: 27 (TEST USER) Fakes Found: 22/10\n",
            "User: 28 (TEST USER) Fakes Found: 14/10\n",
            "User: 29 (TEST USER) Fakes Found: 17/10\n",
            "User: 30 (TEST USER) Fakes Found: 10/10\n",
            "User: 31 (TEST USER) Fakes Found: 10/10\n",
            "User: 32 (TEST USER) Fakes Found: 15/10\n",
            "User: 33 (TEST USER) Fakes Found: 13/10\n",
            "User: 34 (TEST USER) Fakes Found: 9/10\n",
            "User: 35 (TEST USER) Fakes Found: 20/10\n",
            "User: 36 (TEST USER) Fakes Found: 43/10\n",
            "User: 37 (TEST USER) Fakes Found: 22/10\n",
            "User: 38 (TEST USER) Fakes Found: 42/10\n",
            "User: 39 (TEST USER) Fakes Found: 3/10\n",
            "\n",
            "Total Train Score: 1588/1800 (0.882%) | Normalized = 1%\n",
            "Total Train Score - Smooth: 1490/1800 (0.828%) | Normalized = 1%\n",
            "Fakes Found in Train: 182.0/100 (1.82%)\n"
          ],
          "name": "stdout"
        }
      ]
    },
    {
      "cell_type": "code",
      "metadata": {
        "id": "fyyOKhRPExsi",
        "colab": {
          "base_uri": "https://localhost:8080/"
        },
        "outputId": "4a34ee20-2bc9-48b6-9bc2-3d7e03e7e445"
      },
      "source": [
        "print(\"Fakes Found in Test: {}/{} ({}%)\".format(result.sum(),300,round(result.sum()/300,3)))"
      ],
      "execution_count": 50,
      "outputs": [
        {
          "output_type": "stream",
          "text": [
            "Fakes Found in Test: 478/300 (1.593%)\n"
          ],
          "name": "stdout"
        }
      ]
    },
    {
      "cell_type": "markdown",
      "metadata": {
        "id": "N43JpUsMl03H"
      },
      "source": [
        "# Save Results\n",
        "---\n",
        "save results to csv file in the needed format (row = user, col= test segments)\n"
      ]
    },
    {
      "cell_type": "code",
      "metadata": {
        "id": "N0GX6Yg4b3BS"
      },
      "source": [
        "def write_results(results):\n",
        "  \"\"\"\n",
        "  Write result as a csv format (row = user, col= test segments)\n",
        "\n",
        "  :param results: test segments result to write\n",
        "  \"\"\"\n",
        "  with open('resuls.csv', 'w', newline='') as csvfile:\n",
        "    spamwriter = csv.writer(csvfile, delimiter=',',quotechar='|', quoting=csv.QUOTE_MINIMAL)\n",
        "\n",
        "    for user_id in range(len(results)):\n",
        "      row = results[user_id]\n",
        "      spamwriter.writerow(row)"
      ],
      "execution_count": 51,
      "outputs": []
    },
    {
      "cell_type": "code",
      "metadata": {
        "id": "eQEv_otEb3e5"
      },
      "source": [
        "write_results(result)"
      ],
      "execution_count": 52,
      "outputs": []
    }
  ]
}