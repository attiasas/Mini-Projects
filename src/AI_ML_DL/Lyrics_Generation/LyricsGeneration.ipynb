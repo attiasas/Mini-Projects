{
  "nbformat": 4,
  "nbformat_minor": 0,
  "metadata": {
    "colab": {
      "name": "Deep_learning_Ass_3_308214899_204429278.ipynb",
      "provenance": [],
      "collapsed_sections": [
        "SwLK-SYNGo6Z",
        "hPDhM9UX4zmR",
        "ziWMyoJ94-D2"
      ],
      "toc_visible": true
    },
    "kernelspec": {
      "display_name": "Python 3",
      "name": "python3"
    },
    "language_info": {
      "name": "python"
    }
  },
  "cells": [
    {
      "cell_type": "markdown",
      "metadata": {
        "id": "OLFqK2SOt6cK"
      },
      "source": [
        "# **Lyrics Generation Base On Melody and Input Seed - RNN ML Model**\n",
        "\n",
        "Submitters:\n",
        "Assaf Attias 308214899\n",
        "Omer Shlomo 204429278 "
      ]
    },
    {
      "cell_type": "markdown",
      "metadata": {
        "id": "4x5YdtZWurHv"
      },
      "source": [
        "# **Preparations**\n",
        "Prepare Program for running"
      ]
    },
    {
      "cell_type": "markdown",
      "metadata": {
        "id": "EAL491pGDHGT"
      },
      "source": [
        "## Download Data Set and install pretty_midi\n",
        "\n",
        "---"
      ]
    },
    {
      "cell_type": "code",
      "metadata": {
        "colab": {
          "base_uri": "https://localhost:8080/"
        },
        "id": "xTgqIPgtUOGI",
        "outputId": "fa04ca65-af25-43bd-871f-938924802922"
      },
      "source": [
        "# download midi files\n",
        "!gdown --id 1VHTLxkSrCKzQKLPAtiCc4ROYKcGHrOYC\n",
        "!unzip midi_files.zip -d data\n",
        "# download train set\n",
        "!gdown --id 1n4RnpJ6LxE0KrMG2OAe8ozNN-gjGBgv7\n",
        "# download test set\n",
        "!gdown --id 1EOFrTYA-GSeq76EnmW-4eN40fcSat5nw\n",
        "# download simple model\n",
        "!gdown --id 1JkyWkLuZosgKjf9-VrJzbqh-pzuInh2b\n",
        "!unzip simple_model.zip\n",
        "# download complex model\n",
        "!gdown --id 11Gj9-fdQl96yOWyHVG8wDlXzTpkiz7eB\n",
        "!unzip complex_model.zip"
      ],
      "execution_count": null,
      "outputs": [
        {
          "output_type": "stream",
          "text": [
            "Downloading...\n",
            "From: https://drive.google.com/uc?id=1VHTLxkSrCKzQKLPAtiCc4ROYKcGHrOYC\n",
            "To: /content/midi_files.zip\n",
            "\r0.00B [00:00, ?B/s]\r6.60MB [00:00, 104MB/s]\n",
            "Archive:  midi_files.zip\n",
            "replace data/midi_files/1910_Fruitgum_Company_-_Simon_Says.mid? [y]es, [n]o, [A]ll, [N]one, [r]ename: "
          ],
          "name": "stdout"
        }
      ]
    },
    {
      "cell_type": "code",
      "metadata": {
        "id": "Ld1-0VTddieK"
      },
      "source": [
        "# !pip install pretty_midi"
      ],
      "execution_count": null,
      "outputs": []
    },
    {
      "cell_type": "markdown",
      "metadata": {
        "id": "cstdlD2MDMpm"
      },
      "source": [
        "## Imports & Constants\n",
        "\n",
        "---"
      ]
    },
    {
      "cell_type": "markdown",
      "metadata": {
        "id": "-o_fwFcmuCaF"
      },
      "source": [
        "### imports"
      ]
    },
    {
      "cell_type": "code",
      "metadata": {
        "id": "YA-vJ85znZo8"
      },
      "source": [
        "import csv, re, os, pretty_midi, pickle\n",
        "import time\n",
        "\n",
        "import pandas as pd\n",
        "import numpy as np\n",
        "import tensorflow as tf\n",
        "import matplotlib.pyplot as plt\n",
        "import keras\n",
        "import json\n",
        "\n",
        "from keras.models import Model, Sequential\n",
        "from keras.layers import Dense, Dropout, Input, Embedding, dot, Activation, concatenate, Flatten, Bidirectional, Concatenate, MultiHeadAttention, Average\n",
        "from keras import backend as K\n",
        "from keras.layers import LSTM\n",
        "from keras.callbacks import EarlyStopping\n",
        "\n",
        "from nltk.tokenize import RegexpTokenizer\n",
        "from keras.preprocessing.text import Tokenizer\n",
        "from keras.preprocessing.sequence import pad_sequences\n",
        "\n",
        "from keras.optimizers import Adam\n",
        "from keras.callbacks import TensorBoard\n",
        "import datetime\n",
        "\n",
        "from IPython.display import Image\n",
        "from keras.utils import plot_model\n",
        "\n",
        "from gensim.models import KeyedVectors\n",
        "import gensim.downloader as word2vec_loader"
      ],
      "execution_count": 9,
      "outputs": []
    },
    {
      "cell_type": "markdown",
      "metadata": {
        "id": "pfLDdz5FuFbj"
      },
      "source": [
        "### constants"
      ]
    },
    {
      "cell_type": "code",
      "metadata": {
        "id": "e2ZjYo7onba2"
      },
      "source": [
        "# paths\n",
        "lyrics_test_path = \"lyrics_test_set.csv\"\n",
        "lyrics_train_path = \"lyrics_train_set.csv\"\n",
        "\n",
        "midi_folder_path = os.path.join(\"data\",\"midi_files\")\n",
        "train_folder_path = os.path.join(\"data\",\"train\")\n",
        "test_folder_path = os.path.join(\"data\",\"test\")\n",
        "temp_folder_path = os.path.join(\"data\",\"temp\")\n",
        "\n",
        "if not os.path.exists(temp_folder_path):\n",
        "  os.mkdir(temp_folder_path)\n",
        "\n",
        "simple_model_path = \"simple_model\"\n",
        "complex_model_path = \"complex_model\"\n",
        "\n",
        "midi_f_start_name = \"song_midi_\"\n",
        "seq_f_start_name = \"song_seq_\"\n",
        "\n",
        "if not os.path.exists(train_folder_path):\n",
        "  os.mkdir(train_folder_path)\n",
        "  os.mkdir(os.path.join(train_folder_path,\"simple\"))\n",
        "  os.mkdir(os.path.join(train_folder_path,\"complex\"))\n",
        "if not os.path.exists(test_folder_path):\n",
        "  os.mkdir(test_folder_path)\n",
        "  os.mkdir(os.path.join(test_folder_path,\"simple\"))\n",
        "  os.mkdir(os.path.join(test_folder_path,\"complex\"))\n",
        "\n",
        "tensorboard_logs_folder_path = os.path.join(\"logs\",\"fit\")\n",
        "\n",
        "# tokenize and array positions\n",
        "AUTHOR = 0\n",
        "SONG_NAME = 1\n",
        "LYRICS = 2\n",
        "TOKENS = 3\n",
        "# special tokens\n",
        "SENTENCE_DELIMITER = 'eos'\n",
        "LYRICS_END = 'eol'\n",
        "# base info\n",
        "MAX_SEQUENCE_LENGTH = 5\n",
        "EMBEDDING_DIM=300\n",
        "\n",
        "SEED = 42\n",
        "np.random.seed(SEED)"
      ],
      "execution_count": 10,
      "outputs": []
    },
    {
      "cell_type": "markdown",
      "metadata": {
        "id": "kmtMO9J3DJhG"
      },
      "source": [
        "# **Load Data**\n",
        "\n",
        "---\n",
        "Read and parse the information provided in the assignment"
      ]
    },
    {
      "cell_type": "code",
      "metadata": {
        "id": "TMDIkk0SnijA"
      },
      "source": [
        "def load_midi_data_index(midi_data_folder):\n",
        "    \"\"\"\n",
        "    read all midi files in a given folder and prepare an index of the midi files\n",
        "\n",
        "    :param midi_data_folder: path of folder with midi files\n",
        "    :return: dict of form {(author,song_name) : midi_file_full_path}\n",
        "    \"\"\"\n",
        "    data = {}\n",
        "    for midi_file_name in os.listdir(midi_data_folder):\n",
        "\n",
        "        info = re.split('.mid|-', midi_file_name)\n",
        "        author = info[AUTHOR].replace('_', ' ').lower().strip()\n",
        "        song_name = info[SONG_NAME].replace('_', ' ').lower().strip()\n",
        "        data[(author, song_name)] = os.path.join(midi_data_folder, midi_file_name)\n",
        "\n",
        "    return data\n",
        "\n",
        "def get_midi_data(midi_index, author, song_name):\n",
        "    \"\"\"\n",
        "    Return a pretty_midi file, replace the path in the index dict and load if needed\n",
        "\n",
        "    :param midi_index: index created by load_midi_data_index\n",
        "    :param author: author name of the desired midi file\n",
        "    :param song_name: song name of the desired midi file\n",
        "    :return: \n",
        "      midi: pretty_midi object if exists, None if not\n",
        "      loaded: int, 0 if the midi is in the index, 1 if loaded from folder\n",
        "    \"\"\"\n",
        "    load_count = 0\n",
        "    if (author, song_name) not in midi_index:\n",
        "        print(\"did not found midi file for '{}' by '{}'\".format(song_name,author))\n",
        "        return None, load_count\n",
        "\n",
        "    if isinstance(midi_index[(author, song_name)], str):\n",
        "        try:\n",
        "            midi_index[(author, song_name)] = pretty_midi.PrettyMIDI(midi_index[(author, song_name)])\n",
        "            load_count = 1\n",
        "        except:\n",
        "            print(\"Error When Loaded: '{}' by '{}'. path = {}\".format(song_name, author, midi_index[(author, song_name)]))\n",
        "            return None, load_count\n",
        "\n",
        "    return midi_index[(author, song_name)], load_count\n",
        "\n",
        "def csv_to_data(csv_path, midi_index):\n",
        "    \"\"\"\n",
        "    Parse Lyrics csv file and finish loading all needed data from it\n",
        "\n",
        "    :param csv_path: lyrics csv_file\n",
        "    :param midi_index: midi index created from load_midi_data_index\n",
        "    :return: \n",
        "      data: list of the lyrics in the csv file\n",
        "      midi_list: list of pretty_midi coresponding to the data lyrics\n",
        "    \"\"\"\n",
        "\n",
        "    data = []\n",
        "    midi_list = []\n",
        "\n",
        "    midi_load_count = 0\n",
        "\n",
        "    with open(csv_path, newline='') as csvfile:\n",
        "        reader = csv.reader(csvfile, delimiter=',', quotechar='|')\n",
        "        for row in reader:\n",
        "            clean_row = [val for val in row if val != '']\n",
        "            author = clean_row[AUTHOR].strip()\n",
        "\n",
        "            for song in range(SONG_NAME,len(clean_row),2):\n",
        "                song_name = clean_row[song].strip()\n",
        "                lyrics = clean_row[song + 1]\n",
        "\n",
        "                midi, loaded = get_midi_data(midi_index, author, song_name)\n",
        "\n",
        "                if midi is None:\n",
        "                    continue\n",
        "\n",
        "                midi_load_count += loaded\n",
        "\n",
        "                midi_list.append(midi)\n",
        "                data.append([author, song_name, lyrics])\n",
        "\n",
        "    return data, midi_list, midi_load_count\n",
        "\n",
        "\n",
        "def load_all_data(lyrics_train_path, lyrics_test_path, midi_folder_path):\n",
        "    \"\"\"\n",
        "    Load all data needed for the program\n",
        "\n",
        "    :param lyrics_train_path: train csv file path\n",
        "    :param lyrics_test_path: test csv file path\n",
        "    :param midi_folder_path: path of folder with midi files\n",
        "    :return: \n",
        "      train_set: train lyrics data\n",
        "      train_midi_list: train midi data\n",
        "      test_set: test lyrics data\n",
        "      test_midi_list: test midi data\n",
        "      load count: int, how many midi files loaded from data\n",
        "    \"\"\"\n",
        "    midi_index = load_midi_data_index(midi_folder_path)\n",
        "\n",
        "    train_set, train_midi_list, train_midi_load_count = csv_to_data(lyrics_train_path, midi_index)\n",
        "    test_set, test_midi_list, test_midi_load_count = csv_to_data(lyrics_test_path, midi_index)\n",
        "\n",
        "    return train_set, train_midi_list, test_set, test_midi_list, (train_midi_load_count + test_midi_load_count)"
      ],
      "execution_count": 11,
      "outputs": []
    },
    {
      "cell_type": "code",
      "metadata": {
        "colab": {
          "base_uri": "https://localhost:8080/"
        },
        "id": "pDs5W8k-nt2n",
        "outputId": "9de8ada1-a47d-4d19-8270-197f320e2c98"
      },
      "source": [
        "start_time = time.time()\n",
        "\n",
        "train_set, train_midi_list, test_set, test_midi_list, midi_load_count = load_all_data(lyrics_train_path, lyrics_test_path, midi_folder_path)\n",
        "\n",
        "load_t_stamp = time.time()\n",
        "\n",
        "len_train = len(train_set)\n",
        "len_test = len(test_set)\n",
        "print()\n",
        "print(\"Loading Done. midi Song Count: {} [train={}, test={}], loaded at {}sec.\".format(len_train+len_test,len_train,len_test,load_t_stamp-start_time))"
      ],
      "execution_count": 12,
      "outputs": [
        {
          "output_type": "stream",
          "text": [
            "/usr/local/lib/python3.7/dist-packages/pretty_midi/pretty_midi.py:101: RuntimeWarning: Tempo, Key or Time signature change events found on non-zero tracks.  This is not a valid type 0 or type 1 MIDI file.  Tempo, Key or Time Signature may be wrong.\n",
            "  RuntimeWarning)\n"
          ],
          "name": "stderr"
        },
        {
          "output_type": "stream",
          "text": [
            "did not found midi file for 'act naturally' by 'glen campbell'\n",
            "Error When Loaded: 'lazarus' by 'david bowie'. path = data/midi_files/David_Bowie_-_Lazarus.mid\n",
            "Error When Loaded: 'girls' by 'beastie boys'. path = data/midi_files/Beastie_Boys_-_Girls.mid\n",
            "Error When Loaded: 'movin' out' by 'billy joel'. path = data/midi_files/Billy_Joel_-_Movin'_Out.mid\n",
            "Error When Loaded: 'pressure' by 'billy joel'. path = data/midi_files/Billy_Joel_-_Pressure.mid\n",
            "Error When Loaded: 'leader of the band' by 'dan fogelberg'. path = data/midi_files/Dan_Fogelberg_-_Leader_of_the_Band.mid\n",
            "did not found midi file for 'where my girls at' by 'frankie valli'\n",
            "did not found midi file for 'all i have to give' by 'ace of base'\n",
            "Error When Loaded: 'on the down low' by 'brian mcknight'. path = data/midi_files/Brian_McKnight_-_On_The_Down_Low.mid\n",
            "Error When Loaded: 'tell it like it is' by 'aaron neville'. path = data/midi_files/Aaron_Neville_-_Tell_It_Like_It_Is.mid\n",
            "\n",
            "Loading Done. midi Song Count: 610 [train=605, test=5], loaded at 123.22178983688354sec.\n"
          ],
          "name": "stdout"
        }
      ]
    },
    {
      "cell_type": "markdown",
      "metadata": {
        "id": "WLK4b4b_DW22"
      },
      "source": [
        "# **Data Analysis + PreProcess** \n",
        "Prepare the data for training and testing"
      ]
    },
    {
      "cell_type": "markdown",
      "metadata": {
        "id": "wUfzcZgFtGKw"
      },
      "source": [
        "## Lyrics\n",
        "Analysis and pre-processing of the Text Lyrics"
      ]
    },
    {
      "cell_type": "markdown",
      "metadata": {
        "id": "ihjnS5IVDWzg"
      },
      "source": [
        "### Data Explore\n",
        "\n",
        "---\n"
      ]
    },
    {
      "cell_type": "code",
      "metadata": {
        "id": "Obwe-GmTq5bm"
      },
      "source": [
        "def analyze_row_data(tokens):\n",
        "    \"\"\"\n",
        "    Analyze lyrics data of a given song\n",
        "\n",
        "    :param tokens: parsed tokens of the lyrics song\n",
        "    :return: summary information on the lyrics tokens\n",
        "    \"\"\"\n",
        "    tokens_set = set()\n",
        "    n_tokens = len(tokens)\n",
        "\n",
        "    n_sentences = 0\n",
        "    min_token_per_sentence = 10000\n",
        "    max_token_per_sentence = 0\n",
        "    sentences_len_counter = 0\n",
        "\n",
        "    current_sentence_len = 0\n",
        "    for token in tokens:\n",
        "\n",
        "        tokens_set.add(token)\n",
        "\n",
        "        if token == SENTENCE_DELIMITER:\n",
        "\n",
        "            if current_sentence_len > max_token_per_sentence:\n",
        "                max_token_per_sentence = current_sentence_len\n",
        "            if current_sentence_len < min_token_per_sentence:\n",
        "                min_token_per_sentence = current_sentence_len\n",
        "\n",
        "            sentences_len_counter += current_sentence_len\n",
        "            current_sentence_len = 0\n",
        "            n_sentences += 1\n",
        "        else:\n",
        "            current_sentence_len += 1\n",
        "\n",
        "    return tokens_set, n_tokens, n_sentences, min_token_per_sentence, sentences_len_counter / n_sentences, max_token_per_sentence"
      ],
      "execution_count": 13,
      "outputs": []
    },
    {
      "cell_type": "markdown",
      "metadata": {
        "id": "KHufgiH_DWwG"
      },
      "source": [
        "### pre proccess\n",
        "1. Tokenize Lyrics with regex: r'\\w+|&+\n",
        "2. lower case text\n",
        "3. replace & with >eos< and add >end lyrics< token at the end\n",
        "4. remove all tokens that are not words (special char and digits)\n"
      ]
    },
    {
      "cell_type": "code",
      "metadata": {
        "id": "NG_evOH9q8lf"
      },
      "source": [
        "def preprocess_lyrics_data(data):\n",
        "    \"\"\"\n",
        "    Pre process the given txt lyrics data and extract information about it\n",
        "    Pre Process:\n",
        "      1. Tokenize\n",
        "      2. lower case\n",
        "      3. remove special chars and digits\n",
        "      4. replace sentence delimiter and add end of lyrics token at the end\n",
        "\n",
        "    :param data: lyrics data to process\n",
        "    :return:\n",
        "      data: data with updated lyrics after processing\n",
        "      clean_lyrics_list: list of all the clean text (after preprocess)\n",
        "      summay_info: analysis info on the lyrics\n",
        "    \"\"\"\n",
        "    tokenizer_reg = RegexpTokenizer(r'\\w+|&+')\n",
        "    clean_lyrics_list = []\n",
        "    voc = set()\n",
        "\n",
        "    min_n_sentences = 10000\n",
        "    max_n_sentences = 0\n",
        "    avg_n_sentences = 0\n",
        "\n",
        "    min_n_tokens = 10000\n",
        "    max_n_tokens = 0\n",
        "    avg_n_tokens = 0\n",
        "\n",
        "    min_n_tokens_per_sen = 10000\n",
        "    max_n_tokens_per_sen = 0\n",
        "    avg_n_tokens_per_sen = 0\n",
        "\n",
        "    for i in range(len(data)):\n",
        "\n",
        "        text_lyrics = data[i][LYRICS]\n",
        "\n",
        "        clean_lyrics = text_lyrics.lower()\n",
        "\n",
        "        clean_lyrics = clean_lyrics.replace('&', SENTENCE_DELIMITER)\n",
        "\n",
        "        clean_lyrics = re.sub(r'\\[.*?!\\]', '', clean_lyrics)\n",
        "        clean_lyrics = re.sub(\"[^\\na-z 0-9]\", \"\", clean_lyrics).strip()\n",
        "        clean_lyrics = re.sub(' +', ' ', clean_lyrics)\n",
        "        clean_lyrics = clean_lyrics + \" \" + LYRICS_END\n",
        "\n",
        "        data[i][LYRICS] = clean_lyrics\n",
        "\n",
        "        tokens = tokenizer_reg.tokenize(clean_lyrics)\n",
        "\n",
        "        tokens_set, n_tokens, n_sentences, min_token_per_sentence, avg_token_per_sentence, max_token_per_sentence = analyze_row_data(tokens)\n",
        "\n",
        "        if n_sentences < min_n_sentences:\n",
        "            min_n_sentences = n_sentences\n",
        "        if n_sentences > max_n_sentences:\n",
        "            max_n_sentences = n_sentences\n",
        "        avg_n_sentences += n_sentences\n",
        "\n",
        "        if n_tokens < min_n_tokens:\n",
        "            min_n_tokens = n_tokens\n",
        "        if n_tokens > max_n_tokens:\n",
        "            max_n_tokens = n_tokens\n",
        "        avg_n_tokens += n_tokens\n",
        "\n",
        "        if min_token_per_sentence < min_n_tokens_per_sen:\n",
        "            min_n_tokens_per_sen = min_token_per_sentence\n",
        "        if max_token_per_sentence > max_n_tokens_per_sen:\n",
        "            max_n_tokens_per_sen = max_token_per_sentence\n",
        "        avg_n_tokens_per_sen += avg_token_per_sentence\n",
        "\n",
        "        voc = voc.union(tokens_set)\n",
        "        data[i].append(tokens)\n",
        "        clean_lyrics_list.append(clean_lyrics)\n",
        "\n",
        "    return data, clean_lyrics_list, voc, ((avg_n_tokens, min_n_tokens,avg_n_tokens / len(data),max_n_tokens),(avg_n_sentences,min_n_sentences,avg_n_sentences / len(data),min_n_sentences),(min_n_tokens_per_sen,avg_n_tokens_per_sen / n_sentences,max_n_tokens_per_sen))"
      ],
      "execution_count": 14,
      "outputs": []
    },
    {
      "cell_type": "code",
      "metadata": {
        "id": "S8N6KEalrNXW"
      },
      "source": [
        "# pre-process\n",
        "train_set, train_clean_lyrics_list, train_voc, train_analyze_data = preprocess_lyrics_data(train_set)\n",
        "test_set, test_clean_lyrics_list, test_voc, test_analyze_data = preprocess_lyrics_data(test_set)\n",
        "\n",
        "# prepare word index (vocabulary)\n",
        "voc = sorted(list(set.union(train_voc,test_voc)))\n",
        "clean_lyrics = train_clean_lyrics_list + test_clean_lyrics_list\n",
        "tokenizer = Tokenizer(num_words=len(voc))\n",
        "tokenizer.fit_on_texts(clean_lyrics)\n",
        "word_index = tokenizer.word_index"
      ],
      "execution_count": 15,
      "outputs": []
    },
    {
      "cell_type": "code",
      "metadata": {
        "colab": {
          "base_uri": "https://localhost:8080/"
        },
        "id": "XAortTGSrBSM",
        "outputId": "54a7b652-733a-4e49-92c1-ed4c9a92fc70"
      },
      "source": [
        "print(\"Lyrics Traing Set Information:\")\n",
        "(n_tokens, min_n_token,avg_n_token,max_n_token),(n_sentences, min_n_sentences,avg_n_sentences,max_n_sentences),(min_n_tokens_per_sen,avg_n_tokens_per_sen,max_n_tokens_per_sen) = train_analyze_data\n",
        "print(\"found {} sentences in total. per song = [min={},avg={},max={}]\".format(n_sentences, min_n_sentences,avg_n_sentences,max_n_sentences))\n",
        "print(\"words per sentence info: per song = [min={},avg={},max={}]\".format(min_n_tokens_per_sen,avg_n_tokens_per_sen,max_n_tokens_per_sen))\n",
        "print(\"found {} words in total. per song = [min={},avg={},max={}], with a vocabulary size of {}\".format(n_tokens,min_n_token,avg_n_token,max_n_token, len(voc)))\n",
        "print()\n",
        "print(\"Lyrics Test Set Information:\")\n",
        "(n_tokens, min_n_token,avg_n_token,max_n_token),(n_sentences, min_n_sentences,avg_n_sentences,max_n_sentences),(min_n_tokens_per_sen,avg_n_tokens_per_sen,max_n_tokens_per_sen) = test_analyze_data\n",
        "print(\"found {} sentences in total. per song = [min={},avg={},max={}]\".format(n_sentences, min_n_sentences,avg_n_sentences,max_n_sentences))\n",
        "print(\"words per sentence info: per song = [min={},avg={},max={}]\".format(min_n_tokens_per_sen,avg_n_tokens_per_sen,max_n_tokens_per_sen))\n",
        "print(\"found {} words in total. per song = [min={},avg={},max={}], with a vocabulary size of {}\".format(n_tokens,min_n_token,avg_n_token,max_n_token, len(voc)))\n",
        "\n",
        "lyrics_preprocess_t_stamp = time.time()\n",
        "print()\n",
        "print(\"lyrics Pre-processed at {} sec.\".format(round(lyrics_preprocess_t_stamp-load_t_stamp,3)))"
      ],
      "execution_count": 16,
      "outputs": [
        {
          "output_type": "stream",
          "text": [
            "Lyrics Traing Set Information:\n",
            "found 24086 sentences in total. per song = [min=1,avg=39.811570247933886,max=1]\n",
            "words per sentence info: per song = [min=0,avg=46.35585454592839,max=292]\n",
            "found 181577 words in total. per song = [min=15,avg=300.1272727272727,max=1482], with a vocabulary size of 7563\n",
            "\n",
            "Lyrics Test Set Information:\n",
            "found 189 sentences in total. per song = [min=16,avg=37.8,max=16]\n",
            "words per sentence info: per song = [min=2,avg=1.0437831946095917,max=12]\n",
            "found 1353 words in total. per song = [min=111,avg=270.6,max=448], with a vocabulary size of 7563\n",
            "\n",
            "lyrics Pre-processed at 0.48 sec.\n"
          ],
          "name": "stdout"
        }
      ]
    },
    {
      "cell_type": "markdown",
      "metadata": {
        "id": "obAEno1KtCgq"
      },
      "source": [
        "## Midi\n",
        "Analysis and pre-processing of the midi files"
      ]
    },
    {
      "cell_type": "markdown",
      "metadata": {
        "id": "R5hQr4ebtWYE"
      },
      "source": [
        "### Data Explore"
      ]
    },
    {
      "cell_type": "code",
      "metadata": {
        "id": "GosyLpGerSTG"
      },
      "source": [
        "def analyze_midi(pm):\n",
        "    \"\"\"\n",
        "    Plot the tempo changes over time, pitch class distribution\n",
        "    \n",
        "    :param pm: pretty_midi object to abalyze\n",
        "    \"\"\"\n",
        "    # Plot the tempo changes over time\n",
        "    # Many MIDI files won't have more than one tempo change event,\n",
        "    # but this particular file was transcribed to somewhat closely match the original song.\n",
        "    times, tempo_changes = pm.get_tempo_changes()\n",
        "    plt.plot(times, tempo_changes, '.')\n",
        "    plt.xlabel('Time')\n",
        "    plt.ylabel('Tempo')\n",
        "    plt.show()\n",
        "    # Plot a pitch class distribution - sort of a proxy for key\n",
        "    plt.bar(np.arange(12), pm.get_pitch_class_histogram());\n",
        "    plt.xticks(np.arange(12), ['C', '', 'D', '', 'E', 'F', '', 'G', '', 'A', '', 'B'])\n",
        "    plt.xlabel('Note')\n",
        "    plt.ylabel('Proportion')\n",
        "    plt.show()"
      ],
      "execution_count": 17,
      "outputs": []
    },
    {
      "cell_type": "code",
      "metadata": {
        "colab": {
          "base_uri": "https://localhost:8080/",
          "height": 558
        },
        "id": "GMwxNQjqzdDG",
        "outputId": "aa0f80f1-be19-4656-e4a7-29428e4a1cc5"
      },
      "source": [
        "show_midi_ind = 0\n",
        "print(\"'{}' by '{}' midi file information:\".format(train_set[show_midi_ind][SONG_NAME],train_set[show_midi_ind][AUTHOR]))\n",
        "analyze_midi(train_midi_list[show_midi_ind])"
      ],
      "execution_count": 18,
      "outputs": [
        {
          "output_type": "stream",
          "text": [
            "'candle in the wind' by 'elton john' midi file information:\n"
          ],
          "name": "stdout"
        },
        {
          "output_type": "display_data",
          "data": {
            "image/png": "[encoded data removed]",
            "text/plain": [
              "<Figure size 432x288 with 1 Axes>"
            ]
          },
          "metadata": {
            "tags": [],
            "needs_background": "light"
          }
        },
        {
          "output_type": "display_data",
          "data": {
            "image/png": "[encoded data removed]",
            "text/plain": [
              "<Figure size 432x288 with 1 Axes>"
            ]
          },
          "metadata": {
            "tags": [],
            "needs_background": "light"
          }
        }
      ]
    },
    {
      "cell_type": "markdown",
      "metadata": {
        "id": "6PtdmmOqtWCN"
      },
      "source": [
        "### pre proccess\n",
        "pre process pipeline for midi data to extrat features (base on extract function)"
      ]
    },
    {
      "cell_type": "code",
      "metadata": {
        "id": "7zId5LpWrBfO"
      },
      "source": [
        "def preprocess_midi(midi_list, extract_features_func,type_folder_s_name, save_folder_path):\n",
        "    \"\"\"\n",
        "    Pre process midi object and extract features from it for learning/test base on a given\n",
        "    extract function and save (cache it) in disk\n",
        "\n",
        "    :param midi_list: pretty_midi object list to process\n",
        "    :param extract_features_func: feature extruction function to use on midi object\n",
        "    :param type_folder_s_name: str, type of feature extruction\n",
        "    :param save_folder_path: path of folder to cache features for songs\n",
        "    :return:\n",
        "      shape of the features extracted from each midi\n",
        "    \"\"\"\n",
        "\n",
        "    midi_features_shape = None\n",
        "\n",
        "    for song_id, midi in enumerate(midi_list):\n",
        "        features = extract_features_func(midi)\n",
        "        midi_features_shape = features.shape\n",
        "\n",
        "        np.save(os.path.join(save_folder_path,type_folder_s_name,midi_f_start_name) + str(song_id) + '.npy',features)\n",
        "\n",
        "    return midi_features_shape"
      ],
      "execution_count": 19,
      "outputs": []
    },
    {
      "cell_type": "markdown",
      "metadata": {
        "id": "vVTfE1YCtkPW"
      },
      "source": [
        "#### Approch 1 - Simple Features\n",
        "Summary of midi data that characterize the song\n",
        "Hopefully encodes the information\n",
        "Extract:\n",
        "1. summary of semitones\n",
        "2. summary of roll\n",
        "3. bpm (normalized)\n",
        "\n",
        "total of 141 features per midi"
      ]
    },
    {
      "cell_type": "code",
      "metadata": {
        "id": "iVxltny8tyEH"
      },
      "source": [
        "def extract_midi_features_model_simple(pm):\n",
        "    \"\"\"\n",
        "    Extract features from midi object for simple model, summarized information.\n",
        "    transitions, semitones, histograms and bpm (tempo) information\n",
        "    :param pm: pretty_midi object to process\n",
        "    :return: nd array shape of (309,) with features on the midi\n",
        "    \"\"\"\n",
        "    semitone = pm.get_chroma().sum(axis=1) / pm.get_chroma().sum()  # 12\n",
        "    piano_roll = pm.get_piano_roll().sum(axis=1) / pm.get_piano_roll().sum()  # 128\n",
        "    bpm_norm = np.array([pm.estimate_tempo() / 300])  # 1\n",
        "\n",
        "    features = np.concatenate((semitone, piano_roll, bpm_norm))\n",
        "    features[np.isnan(features)] = 0\n",
        "\n",
        "    return features"
      ],
      "execution_count": 20,
      "outputs": []
    },
    {
      "cell_type": "code",
      "metadata": {
        "colab": {
          "base_uri": "https://localhost:8080/"
        },
        "id": "kTRrsiyItx8-",
        "outputId": "7cacca8e-b624-444e-befc-e8bde5666cc2"
      },
      "source": [
        "train_midi_simple_shape = preprocess_midi(train_midi_list,extract_midi_features_model_simple, \"simple\", train_folder_path)\n",
        "test_midi_simple_shape = preprocess_midi(test_midi_list,extract_midi_features_model_simple, \"simple\", test_folder_path)\n",
        "\n",
        "midi_simple_preprocess_t_stamp = time.time()\n",
        "print(\"midi simple Pre-processed at {} sec.\".format(round(midi_simple_preprocess_t_stamp-lyrics_preprocess_t_stamp,3)))\n",
        "print(\"midi simple shape: {}\".format(train_midi_simple_shape))"
      ],
      "execution_count": 21,
      "outputs": [
        {
          "output_type": "stream",
          "text": [
            "midi simple Pre-processed at 376.607 sec.\n",
            "midi simple shape: (141,)\n"
          ],
          "name": "stdout"
        }
      ]
    },
    {
      "cell_type": "markdown",
      "metadata": {
        "id": "vd4R0TO9ty0-"
      },
      "source": [
        "#### Approch 2 - Complex Features\n",
        "Create a Fix Size Sampling of piano roll (200 samples, 140 size vector per sample) Matrix of the melody\n",
        "1. calcluate the fix interval sample needed base on the song duration\n",
        "2. sample the piano roll for all the time intervals and create the \n",
        "\n",
        "matrix shape of (200,140)\n",
        "sampling notes from the song in a fix interval to creat a fix matrix with each slot a sample from the midi rolls"
      ]
    },
    {
      "cell_type": "code",
      "metadata": {
        "id": "oKxajgStt2GP"
      },
      "source": [
        "MATRIX_SIZE = 200\n",
        "\n",
        "def extract_midi_features_model_complex(pm):\n",
        "    \"\"\"\n",
        "    Extract features from midi object for complex model, piano roll samples information.\n",
        "    calcluate the fix interval sample needed base on the song duration\n",
        "    \n",
        "    :param pm: pretty_midi object to process\n",
        "    :return: nd array shape of (500,140) with features on the midi\n",
        "    \"\"\"\n",
        "\n",
        "    fs = MATRIX_SIZE / pm.get_end_time()\n",
        "\n",
        "    piano = pm.get_piano_roll(fs=fs).T\n",
        "    chroma = pm.get_chroma(fs=fs).T\n",
        "\n",
        "    features = np.concatenate((chroma, piano), axis=1)\n",
        "\n",
        "    n_features = len(features)\n",
        "    if n_features < MATRIX_SIZE: # pad\n",
        "        diff = MATRIX_SIZE - n_features\n",
        "        pad_start = np.zeros((int(diff / 2), 140))\n",
        "        pad_end = np.zeros((int(diff / 2 + diff % 2), 140))\n",
        "        features = np.concatenate((pad_start,features,pad_end),axis=0)\n",
        "\n",
        "    return features"
      ],
      "execution_count": 22,
      "outputs": []
    },
    {
      "cell_type": "code",
      "metadata": {
        "id": "VwF6b_bwt1--",
        "colab": {
          "base_uri": "https://localhost:8080/"
        },
        "outputId": "054c5468-50e4-40a4-de11-7be69b7e1440"
      },
      "source": [
        "train_midi_complex_shape = preprocess_midi(train_midi_list,extract_midi_features_model_complex, \"complex\", train_folder_path)\n",
        "test_midi_complex_shape = preprocess_midi(test_midi_list,extract_midi_features_model_complex, \"complex\",test_folder_path)\n",
        "\n",
        "midi_complex_preprocess_t_stamp = time.time()\n",
        "print(\"midi complex Pre-processed at {} sec.\".format(round(midi_complex_preprocess_t_stamp-midi_simple_preprocess_t_stamp,3)))\n",
        "print(\"midi complex train shape: {}\".format(train_midi_complex_shape))\n",
        "print(\"midi complex test shape: {}\".format(test_midi_complex_shape))"
      ],
      "execution_count": 23,
      "outputs": [
        {
          "output_type": "stream",
          "text": [
            "midi complex Pre-processed at 33.787 sec.\n",
            "midi complex train shape: (200, 140)\n",
            "midi complex test shape: (200, 140)\n"
          ],
          "name": "stdout"
        }
      ]
    },
    {
      "cell_type": "markdown",
      "metadata": {
        "id": "rm_uo6BDyt7V"
      },
      "source": [
        "## Prepare test/train dataset for model\n",
        "creating word sequences (Samples) to train from.\n",
        "we will use the test set as a validation for training"
      ]
    },
    {
      "cell_type": "code",
      "metadata": {
        "id": "meGfwyeL0T20"
      },
      "source": [
        "def create_generator_sequences(data, word_index, save_folder_path, max_seq_len=MAX_SEQUENCE_LENGTH):\n",
        "    \"\"\"\n",
        "    Generate X samples, word sequences (index) base on given data, saves them on disk for training.\n",
        "    generator will load the needed seq for each batch base on the lists created here (file indexes)\n",
        "\n",
        "    :param data: given lyrics data to create sequences from\n",
        "    :param word_index: word to index translator to translate tokens to int\n",
        "    :param save_folder_path: path of folder to save the sequences arrays of a song\n",
        "    :param max_seq_len: size of the sequence to create\n",
        "    :return: \n",
        "      list_IDs: samples IDs for batch generator\n",
        "      list_labels: samples Labels for batch generator\n",
        "      song_index: midi samples ids for batch generator\n",
        "    \"\"\"\n",
        "    song_index = []\n",
        "    list_IDs = []\n",
        "    list_labels = []\n",
        "\n",
        "    sample_id = 0\n",
        "\n",
        "    for song_id, d in enumerate(data):\n",
        "        tokens = d[TOKENS]\n",
        "        for j in range(len(tokens)):\n",
        "            tokens[j] = word_index[tokens[j]]\n",
        "\n",
        "        song_seq_id = 0\n",
        "        song_seq = []\n",
        "\n",
        "        for j in range(len(tokens)):\n",
        "            for k in range(max_seq_len):\n",
        "                sequence = pad_sequences([tokens[j:j + k + 1]], maxlen=max_seq_len, padding='pre')[0]\n",
        "\n",
        "                x_seq = sequence[:-1]\n",
        "                song_seq.append(x_seq)\n",
        "\n",
        "                y_seq = sequence[-1]\n",
        "                list_labels.append(y_seq)\n",
        "\n",
        "                song_index.append(song_id)\n",
        "\n",
        "                list_IDs.append((song_id,song_seq_id,sample_id))\n",
        "                sample_id += 1\n",
        "                song_seq_id += 1\n",
        "\n",
        "        np.save(os.path.join(save_folder_path,seq_f_start_name) + str(song_id) + '.npy',np.asarray(song_seq))\n",
        "\n",
        "    return list_IDs,list_labels,song_index"
      ],
      "execution_count": 24,
      "outputs": []
    },
    {
      "cell_type": "code",
      "metadata": {
        "id": "rq2JOCo9jIdd",
        "colab": {
          "base_uri": "https://localhost:8080/"
        },
        "outputId": "1db347d7-40bd-46da-f312-cea5887221c3"
      },
      "source": [
        "# free some space\n",
        "del train_midi_list\n",
        "del test_midi_list\n",
        "\n",
        "train_list_IDs, train_list_labels, train_song_index = create_generator_sequences(train_set,word_index,train_folder_path)\n",
        "test_list_IDs, test_list_labels, test_song_index = create_generator_sequences(test_set,word_index,test_folder_path)\n",
        "\n",
        "xy_create_t_stamp = time.time()\n",
        "print(\"lyrics sequences creation done at {} sec.\".format(round(xy_create_t_stamp-midi_complex_preprocess_t_stamp,3)))\n",
        "print()\n",
        "print(\"Train Set Size: {}\".format(len(train_list_IDs)))\n",
        "print(\"Test Set Size: {}\".format(len(test_list_IDs)))"
      ],
      "execution_count": 25,
      "outputs": [
        {
          "output_type": "stream",
          "text": [
            "lyrics sequences creation done at 19.678 sec.\n",
            "\n",
            "Train Set Size: 907885\n",
            "Test Set Size: 6765\n"
          ],
          "name": "stdout"
        }
      ]
    },
    {
      "cell_type": "markdown",
      "metadata": {
        "id": "5pwYbtFpkiBK"
      },
      "source": [
        "### word2vec\n",
        "We used pre-trained word2vec 'word2vec-google-news-300'\n",
        "and tanslated it to a embedding weights for our vocabulary (+ 1 for unknown words - weights = 0).\n",
        "\n",
        "for unknown words to the word2vec we initialize weights to be random uniform (-1,1)"
      ]
    },
    {
      "cell_type": "code",
      "metadata": {
        "colab": {
          "base_uri": "https://localhost:8080/"
        },
        "id": "vYwZt42hsO--",
        "outputId": "883e4cd5-a78f-45f5-bbe4-7fe49b5ffd10"
      },
      "source": [
        "t_time = time.time()\n",
        "word2vec = word2vec_loader.load('word2vec-google-news-300')\n",
        "print(\"Done loading word2vec, {} sec elapsed.\".format(round(time.time() - t_time,3)))\n",
        "\n",
        "emb_weights = np.zeros((len(word_index)+1, EMBEDDING_DIM)) # +1 for unknown words, all zeros\n",
        "\n",
        "for word,index in word_index.items():\n",
        "    emb_weights[index,:] = word2vec[word] if word in word2vec else np.random.uniform(-1,1,EMBEDDING_DIM)\n"
      ],
      "execution_count": 26,
      "outputs": [
        {
          "output_type": "stream",
          "text": [
            "Done loading word2vec, 142.944 sec elapsed.\n"
          ],
          "name": "stdout"
        }
      ]
    },
    {
      "cell_type": "code",
      "metadata": {
        "colab": {
          "base_uri": "https://localhost:8080/"
        },
        "id": "HayMPnF9ILkH",
        "outputId": "0897ffbe-e7ec-42f9-d660-2175df4cf220"
      },
      "source": [
        "print(emb_weights.shape)"
      ],
      "execution_count": 27,
      "outputs": [
        {
          "output_type": "stream",
          "text": [
            "(7564, 300)\n"
          ],
          "name": "stdout"
        }
      ]
    },
    {
      "cell_type": "markdown",
      "metadata": {
        "id": "SwLK-SYNGo6Z"
      },
      "source": [
        "# Intermediate point - For Debug\n",
        "skip data prepare and load all information needed after this point"
      ]
    },
    {
      "cell_type": "markdown",
      "metadata": {
        "id": "hPDhM9UX4zmR"
      },
      "source": [
        "## save midis, ids, lbls, indexes\n",
        "Save all information that was created up to this point"
      ]
    },
    {
      "cell_type": "code",
      "metadata": {
        "id": "2pBB1hLn49gT"
      },
      "source": [
        "temp = {\"w\":word_index,\"s\":train_midi_simple_shape,\"c\":train_midi_complex_shape,\"s_t\":test_midi_simple_shape,\"c_t\":test_midi_complex_shape}\n",
        "with open(os.path.join(temp_folder_path,\"temp\"), 'w') as file:\n",
        "  file.write(json.dumps(temp))\n",
        "\n",
        "np.save(os.path.join(temp_folder_path,\"emb_w\") + '.npy',emb_weights)\n",
        "np.save(os.path.join(temp_folder_path,\"train_list_IDs\") + '.npy',train_list_IDs)\n",
        "np.save(os.path.join(temp_folder_path,\"train_list_labels\") + '.npy',train_list_labels)\n",
        "np.save(os.path.join(temp_folder_path,\"train_song_index\") + '.npy',train_song_index)\n",
        "\n",
        "np.save(os.path.join(temp_folder_path,\"test_list_IDs\") + '.npy',test_list_IDs)\n",
        "np.save(os.path.join(temp_folder_path,\"test_list_labels\") + '.npy',test_list_labels)\n",
        "np.save(os.path.join(temp_folder_path,\"test_song_index\") + '.npy',test_song_index)\n",
        "\n",
        "\n",
        "# np.save(os.path.join(temp_folder_path,\"val_list_IDs\") + '.npy',val_list_IDs)\n",
        "# np.save(os.path.join(temp_folder_path,\"val_list_labels\") + '.npy',val_list_labels)\n",
        "# np.save(os.path.join(temp_folder_path,\"val_song_index\") + '.npy',val_song_index)"
      ],
      "execution_count": 28,
      "outputs": []
    },
    {
      "cell_type": "markdown",
      "metadata": {
        "id": "ziWMyoJ94-D2"
      },
      "source": [
        "## load midis, ids, lbls, indexes\n",
        "**Run From Here For Debug after cell, skip data prepare and load all information needed after this point**"
      ]
    },
    {
      "cell_type": "code",
      "metadata": {
        "id": "9_3Fo11g5BRk"
      },
      "source": [
        "with open(os.path.join(temp_folder_path,\"temp\")) as file:\n",
        "  temp = json.loads(file.read())\n",
        "word_index = temp[\"w\"]\n",
        "train_midi_simple_shape = temp[\"s\"]\n",
        "train_midi_complex_shape = temp[\"c\"]\n",
        "test_midi_simple_shape = temp[\"s_t\"]\n",
        "test_midi_complex_shape = temp[\"c_t\"]\n",
        "\n",
        "emb_weights = np.load(os.path.join(temp_folder_path,\"emb_w\") + '.npy')\n",
        "train_list_IDs = np.load(os.path.join(temp_folder_path,\"train_list_IDs\") + '.npy')\n",
        "train_list_labels = np.load(os.path.join(temp_folder_path,\"train_list_labels\") + '.npy')\n",
        "train_song_index = np.load(os.path.join(temp_folder_path,\"train_song_index\") + '.npy')\n",
        "\n",
        "test_list_IDs = np.load(os.path.join(temp_folder_path,\"test_list_IDs\") + '.npy')\n",
        "test_list_labels = np.load(os.path.join(temp_folder_path,\"test_list_labels\") + '.npy')\n",
        "test_song_index = np.load(os.path.join(temp_folder_path,\"test_song_index\") + '.npy')\n",
        "\n",
        "# val_list_IDs = np.load(os.path.join(temp_folder_path,\"val_list_IDs\") + '.npy')\n",
        "# val_list_labels = np.load(os.path.join(temp_folder_path,\"val_list_labels\") + '.npy')\n",
        "# val_song_index = np.load(os.path.join(temp_folder_path,\"val_song_index\") + '.npy')"
      ],
      "execution_count": 29,
      "outputs": []
    },
    {
      "cell_type": "markdown",
      "metadata": {
        "id": "e9V6qnS8vB0A"
      },
      "source": [
        "# **Lyrics Generation Model**"
      ]
    },
    {
      "cell_type": "code",
      "metadata": {
        "id": "dHpHPoZF1Mmw"
      },
      "source": [
        "train_parameters = {\n",
        "    \"verbose\": 1,\n",
        "    \"epochs\": 1,\n",
        "    \"batch_size\":512,\n",
        "    \"loss\": 'categorical_crossentropy',\n",
        "    \"optimizer\": Adam(lr=1e-3),\n",
        "    \"metrics\": ['accuracy'],\n",
        "    \"callback\" : []\n",
        "}"
      ],
      "execution_count": 30,
      "outputs": []
    },
    {
      "cell_type": "code",
      "metadata": {
        "id": "ijeHeitXiK2z"
      },
      "source": [
        "class BatchGenerator(keras.utils.Sequence):\n",
        "    \"\"\"\n",
        "    Generates Batches for training the model, read data from disk base on indexes and IDs\n",
        "    \"\"\"\n",
        "    def __init__(self,data_path,type_folder_s_name, list_IDs, labels, midis, dim, batch_size=train_parameters[\"batch_size\"],n_classes=len(word_index)+1, shuffle=True):\n",
        "        \"\"\"\n",
        "        Constructor\n",
        "        :param data_path: path on disk to where the samples are stored\n",
        "        :param type_folder_s_name: inside the main folder, what sub-folder (\"train\"/\"test\")\n",
        "        :param list_IDs: list of IDs (sequenceID,songID,sampleID) of each samples\n",
        "        :param labels: list of the samples labels (labels[sampleID])\n",
        "        :param midis: list of midis IDs for each sample (midis[songID])\n",
        "        :param dim: shape of the midis feature\n",
        "        :param batch_size: batch size to generate\n",
        "        :param n_classes: number of classes to predict\n",
        "        :param shuffle: shuffle batches after each epoch\n",
        "        \"\"\"\n",
        "        self.data_path = data_path\n",
        "        self.type_folder_s_name = type_folder_s_name      \n",
        "        self.dim = dim\n",
        "        self.batch_size = batch_size\n",
        "        self.n_classes = n_classes\n",
        "\n",
        "        self.labels = labels\n",
        "        self.list_IDs = list_IDs\n",
        "        self.midis = midis\n",
        "\n",
        "        self.song_seq_dict = {}\n",
        "        self.midi_dict = {}\n",
        "\n",
        "        self.shuffle = shuffle\n",
        "        self.on_epoch_end()\n",
        "\n",
        "    def __len__(self):\n",
        "        'Denotes the number of batches per epoch'\n",
        "        return int(np.floor(len(self.list_IDs) / self.batch_size))\n",
        "\n",
        "    def __getitem__(self, index):\n",
        "        'Generate one batch of data'\n",
        "        # Generate indexes of the batch\n",
        "        indexes = self.indexes[index*self.batch_size:(index+1)*self.batch_size]\n",
        "\n",
        "        # Find list of IDs\n",
        "        list_IDs_temp = [self.list_IDs[k] for k in indexes]\n",
        "\n",
        "        if(index == int(self.__len__() / 2)):\n",
        "          self.song_seq_dict = {}\n",
        "          self.midi_dict = {}\n",
        "\n",
        "        # Generate data\n",
        "        X, y = self.__data_generation(list_IDs_temp)\n",
        "\n",
        "        return X, y\n",
        "\n",
        "    def on_epoch_end(self):\n",
        "        'Updates indexes after each epoch'\n",
        "        self.indexes = np.arange(len(self.list_IDs))\n",
        "        if self.shuffle == True:\n",
        "            np.random.shuffle(self.indexes)\n",
        "\n",
        "    def __data_generation(self, list_IDs_temp):\n",
        "        'Generates data containing batch_size samples' # X : (n_samples, *dim)\n",
        "        # Initialization\n",
        "        \n",
        "        X = [np.empty((self.batch_size, MAX_SEQUENCE_LENGTH-1)),np.empty((self.batch_size, *self.dim))]\n",
        "        y = np.empty((self.batch_size), dtype=int)\n",
        "\n",
        "        # Generate data\n",
        "        for i, (song_id,song_seq_id,sample_id) in enumerate(list_IDs_temp):\n",
        "\n",
        "            if song_id not in self.song_seq_dict: # read from disk to cache\n",
        "              self.song_seq_dict[song_id] = np.load(os.path.join(self.data_path,seq_f_start_name) + str(song_id) + '.npy')\n",
        "              self.midi_dict[song_id] = np.load(os.path.join(self.data_path,self.type_folder_s_name,midi_f_start_name) + str(song_id) + '.npy')\n",
        "            # Store sample\n",
        "            X[0][i,] = self.song_seq_dict[song_id][song_seq_id]\n",
        "            X[1][i,] = self.midi_dict[song_id][self.midis[song_id]]\n",
        "\n",
        "            # Store class\n",
        "            y[i] = self.labels[sample_id]\n",
        "\n",
        "        return X, keras.utils.to_categorical(y, num_classes=self.n_classes)"
      ],
      "execution_count": 31,
      "outputs": []
    },
    {
      "cell_type": "markdown",
      "metadata": {
        "id": "sXAVFvFQDw0x"
      },
      "source": [
        "## model"
      ]
    },
    {
      "cell_type": "code",
      "metadata": {
        "id": "5EAlM4KGwVR2"
      },
      "source": [
        "class LyricsMidiGenerator:\n",
        "  \"\"\"\n",
        "  ML RNN based Model that can generate Lyrics base on a given melody and word seed  \n",
        "  \"\"\"\n",
        "  def __init__(self,word_index,word2vec_weights,midi_dim, model_build_func,name,max_seq_len=MAX_SEQUENCE_LENGTH):\n",
        "    \"\"\"\n",
        "    Constructor\n",
        "    :param word_index: dict that can translate word to integer index\n",
        "    :param word2vec_weights: weights for embedding generated from word2vec\n",
        "    :param midi_dim: shape of the midi feature\n",
        "    :param model_build_func: function that can create ML-RNN model base on: word_index,midi_dim,word2vec_weights\n",
        "    :param name: str, name of the model\n",
        "    :param max_seq_len: size of the word sequence of a sample\n",
        "    \"\"\"\n",
        "    self.model = model_build_func(word_index,midi_dim,word2vec_weights)\n",
        "    self.word_index = word_index\n",
        "    # create reverse index (index -> word)\n",
        "    self.index_word = {}\n",
        "    for word, index in word_index.items():\n",
        "      self.index_word[index] = word\n",
        "    self.max_seq_len = max_seq_len\n",
        "    self.name = name\n",
        "  \n",
        "  def fit(self,training_batch_generator,validation_batch_generator,train_parameters):\n",
        "    \"\"\"\n",
        "    Train the ML-model\n",
        "\n",
        "    :param training_batch_generator: BatchGenerator with training samples\n",
        "    :param validation_batch_generator: BatchGenerator with validation samples\n",
        "    :param train_parameters: parameters needed for training the model\n",
        "    \"\"\"\n",
        "    self.model.compile(loss=train_parameters[\"loss\"], optimizer=train_parameters[\"optimizer\"],metrics=train_parameters[\"metrics\"])\n",
        "\n",
        "    device_name = tf.test.gpu_device_name()\n",
        "    if device_name != '/device:GPU:0':\n",
        "        with tf.device('/cpu:0'):\n",
        "            return self.model.fit(x=training_batch_generator,validation_data=validation_batch_generator, epochs=train_parameters[\"epochs\"],verbose=train_parameters[\"verbose\"],callbacks=train_parameters[\"callback\"])\n",
        "    else:\n",
        "        with tf.device('/device:GPU:0'):\n",
        "            return self.model.fit(x=training_batch_generator,validation_data=validation_batch_generator, epochs=train_parameters[\"epochs\"],verbose=train_parameters[\"verbose\"],callbacks=train_parameters[\"callback\"])\n",
        "\n",
        "  def summary(self):\n",
        "    \"\"\"\n",
        "    print summary of the ML model with parameters\n",
        "    \"\"\"\n",
        "    self.model.summary()\n",
        "\n",
        "  def plot(self):\n",
        "    \"\"\"\n",
        "    plot arcitecture of the model\n",
        "    \"\"\"\n",
        "    imageName = to_file=os.path.join(\"data\",self.name) + \".png\"\n",
        "    plot_model(self.model,to_file=imageName,show_shapes=True)\n",
        "    display(Image(filename=imageName))\n",
        "\n",
        "  def predict_next_word(self, seq_in, midi_in, chose_from_top=1):\n",
        "    \"\"\"\n",
        "    predict the next word (its index) base on a given sequence and midi feature\n",
        "    :param seq_in: sequence sample information\n",
        "    :param midi_in: midi feature sample information\n",
        "    :param chose_from_top: int, chose from the top 'chose_from_top' words that got the highest probs\n",
        "    :return: int, index of the next word that was predicted\n",
        "    \"\"\"\n",
        "    X = [np.empty((1, MAX_SEQUENCE_LENGTH-1)),np.empty((1, *midi_in.shape))]\n",
        "    X[0][0,] = seq_in\n",
        "    X[1][0,] = midi_in\n",
        "\n",
        "    y_pred = self.model.predict(X)\n",
        "    \n",
        "    top_word = (-y_pred[0]).argsort()[:chose_from_top]\n",
        "    \n",
        "    probs = y_pred[0][top_word]\n",
        "    prob_factor = 1 / sum(probs)\n",
        "    top_probs = [prob_factor * p for p in probs]\n",
        "\n",
        "    return np.random.choice(top_word, 1, p=top_probs)[0]\n",
        "\n",
        "  def generate_song(self,seed,midi_in,limit=None,random_scale=1):\n",
        "    \"\"\"\n",
        "    Generate Lyrics base on a given word seed and a midi features information  \n",
        "    :param seed: word seed to generate the lyrics from\n",
        "    :param midi_in: melody feature information to generate lyrics from\n",
        "    :param limit: how many tokens will the lyrics have, if None the generation will stop only after prediction of END_OF_SONG token\n",
        "    :param random_scale: int, how much randomness (creativty?) to generate, less deterministic value range [1,infi]\n",
        "    :return: lyrics, list of its words tokens\n",
        "    \"\"\"\n",
        "    # init\n",
        "    tokens = [self.word_index[seed]]\n",
        "\n",
        "    seq_len = self.max_seq_len - 1\n",
        "    seq_in = np.zeros(seq_len)\n",
        "\n",
        "    if limit is None:\n",
        "      left_to_gen = -1\n",
        "    else:\n",
        "      left_to_gen = limit\n",
        "\n",
        "    while left_to_gen > 0:\n",
        "      seq_in = np.roll(seq_in,seq_len-1)\n",
        "      seq_in[seq_len - 1] = tokens[len(tokens) - 1]\n",
        "      next_word_idx = self.predict_next_word(seq_in,midi_in,random_scale)\n",
        "      \n",
        "      tokens.append(next_word_idx)\n",
        "      left_to_gen -= 1\n",
        "\n",
        "      if self.index_word[next_word_idx] == LYRICS_END:\n",
        "        break\n",
        "\n",
        "    lyrics = []\n",
        "    for token in tokens:\n",
        "      lyrics.append(self.index_word[token])\n",
        "    return lyrics"
      ],
      "execution_count": 32,
      "outputs": []
    },
    {
      "cell_type": "code",
      "metadata": {
        "id": "QhC1WPa2icXY"
      },
      "source": [
        "def show_fit_history(history):\n",
        "  # Evaluate the model\n",
        "  plt.plot(history.history['accuracy'], label='train_accuracy')\n",
        "  plt.plot(history.history['val_accuracy'], label = 'val_accuracy')\n",
        "  plt.xlabel('Epoch')\n",
        "  plt.title(\"Training Accuracy\")\n",
        "  plt.ylabel('Accuracy')\n",
        "  # plt.ylim([0.5, 1])\n",
        "  plt.legend(loc='lower right')\n",
        "  plt.show()\n",
        "\n",
        "  plt.plot(history.history[\"loss\"], label=\"train_loss\")\n",
        "  plt.plot(history.history[\"val_loss\"], label=\"val_loss\")\n",
        "  plt.xlabel('Epoch')\n",
        "  plt.title(\"Training Loss\")\n",
        "  plt.ylabel('Loss')\n",
        "  # plt.ylim([0.5, 1])\n",
        "  plt.legend(loc='lower right')\n",
        "  plt.show()"
      ],
      "execution_count": 33,
      "outputs": []
    },
    {
      "cell_type": "markdown",
      "metadata": {
        "id": "_ZHcT5zBJ8SO"
      },
      "source": [
        "## Approch 1\n",
        "apply RNN (LSTM) on words only.\n",
        "concatanate RNN result with Simple Summarized midi features (\"type\" of melody) to mix information from languege model and midi types"
      ]
    },
    {
      "cell_type": "markdown",
      "metadata": {
        "id": "6l849XxivYGL"
      },
      "source": [
        "### build"
      ]
    },
    {
      "cell_type": "code",
      "metadata": {
        "id": "7N1mqTEbwWH3"
      },
      "source": [
        "def get_model_simple(voc_index,midi_dim, word2vec_weights):\n",
        "    \"\"\"\n",
        "    Build the Simple RNN ML Model\n",
        "    apply RNN only on words and concat midi features to the result\n",
        "\n",
        "    :param voc_index: word_index dict (word -> index)\n",
        "    :param midi_dim: melody features shape\n",
        "    :param word2vec_weights: embedding weights generate from word2vec\n",
        "    :return: keras model with the simple arcitecture\n",
        "    \"\"\"\n",
        "    # parameters\n",
        "    drop_prob = 0.2\n",
        "    LSTM_UNIT_SIZE = 100\n",
        "    DENSE_SIZE = 1024\n",
        "    ENCODE_MIDI_DIM = 10\n",
        "    dense_act = 'relu'\n",
        "\n",
        "    voc_size = len(voc_index) + 1\n",
        "\n",
        "    midi_input = Input(shape=midi_dim, name=\"melody_feature_input\")\n",
        "    encode_midi_layer = Dense(ENCODE_MIDI_DIM, activation=dense_act,name=\"encode_midi_layer\")(midi_input)\n",
        "    drop_out_layer = Dropout(0.8)(encode_midi_layer)\n",
        "\n",
        "\n",
        "    seq_input = Input(shape=(MAX_SEQUENCE_LENGTH-1,), name=\"sequence_input\")\n",
        "    seq_embed = Embedding(voc_size,EMBEDDING_DIM,weights=[word2vec_weights],input_length=MAX_SEQUENCE_LENGTH-1,trainable=False,name='word_embedding_layer')(seq_input)\n",
        "    lstm = LSTM(units=LSTM_UNIT_SIZE,name=\"LSTM_layer\")(seq_embed)\n",
        "\n",
        "    concat_seq_midi_layer = Concatenate(axis=-1,name=\"concatenate_inputs_layer\")([drop_out_layer, lstm])\n",
        "    \n",
        "    out_layer = Dense(voc_size,activation='softmax',name=\"output_prob_layer\")(concat_seq_midi_layer)\n",
        "\n",
        "    model = Model([seq_input,midi_input], out_layer)\n",
        "  \n",
        "    return model"
      ],
      "execution_count": 34,
      "outputs": []
    },
    {
      "cell_type": "code",
      "metadata": {
        "id": "_s1b_FVGivma"
      },
      "source": [
        "# simple_model.model = keras.models.load_model(simple_model_path)\n",
        "simple_model = LyricsMidiGenerator(word_index,emb_weights,train_midi_simple_shape,get_model_simple,\"simple model\")"
      ],
      "execution_count": 35,
      "outputs": []
    },
    {
      "cell_type": "code",
      "metadata": {
        "id": "P_Jg3s6D6YIb",
        "colab": {
          "base_uri": "https://localhost:8080/"
        },
        "outputId": "d3f316e7-db1a-4b36-b408-153f183676fb"
      },
      "source": [
        "simple_train_gen = BatchGenerator(train_folder_path,\"simple\",train_list_IDs,train_list_labels,train_song_index,train_midi_simple_shape)\n",
        "simple_val_gen = BatchGenerator(test_folder_path,\"simple\",test_list_IDs,test_list_labels,test_song_index,test_midi_simple_shape)\n",
        "\n",
        "simple_model.summary()"
      ],
      "execution_count": 36,
      "outputs": [
        {
          "output_type": "stream",
          "text": [
            "Model: \"model\"\n",
            "__________________________________________________________________________________________________\n",
            "Layer (type)                    Output Shape         Param #     Connected to                     \n",
            "==================================================================================================\n",
            "melody_feature_input (InputLaye [(None, 141)]        0                                            \n",
            "__________________________________________________________________________________________________\n",
            "sequence_input (InputLayer)     [(None, 4)]          0                                            \n",
            "__________________________________________________________________________________________________\n",
            "encode_midi_layer (Dense)       (None, 10)           1420        melody_feature_input[0][0]       \n",
            "__________________________________________________________________________________________________\n",
            "word_embedding_layer (Embedding (None, 4, 300)       2269200     sequence_input[0][0]             \n",
            "__________________________________________________________________________________________________\n",
            "dropout (Dropout)               (None, 10)           0           encode_midi_layer[0][0]          \n",
            "__________________________________________________________________________________________________\n",
            "LSTM_layer (LSTM)               (None, 100)          160400      word_embedding_layer[0][0]       \n",
            "__________________________________________________________________________________________________\n",
            "concatenate_inputs_layer (Conca (None, 110)          0           dropout[0][0]                    \n",
            "                                                                 LSTM_layer[0][0]                 \n",
            "__________________________________________________________________________________________________\n",
            "output_prob_layer (Dense)       (None, 7564)         839604      concatenate_inputs_layer[0][0]   \n",
            "==================================================================================================\n",
            "Total params: 3,270,624\n",
            "Trainable params: 1,001,424\n",
            "Non-trainable params: 2,269,200\n",
            "__________________________________________________________________________________________________\n"
          ],
          "name": "stdout"
        }
      ]
    },
    {
      "cell_type": "code",
      "metadata": {
        "id": "E3ksp90x14sH",
        "colab": {
          "base_uri": "https://localhost:8080/",
          "height": 533
        },
        "outputId": "4313d549-670c-4388-c14f-ba37c52ffcdb"
      },
      "source": [
        "simple_model.plot()"
      ],
      "execution_count": 37,
      "outputs": [
        {
          "output_type": "display_data",
          "data": {
            "image/png": "[encoded data removed]",
            "text/plain": [
              "<IPython.core.display.Image object>"
            ]
          },
          "metadata": {
            "tags": []
          }
        }
      ]
    },
    {
      "cell_type": "markdown",
      "metadata": {
        "id": "3TjnsZPuDzXp"
      },
      "source": [
        "### train"
      ]
    },
    {
      "cell_type": "code",
      "metadata": {
        "id": "eCAHIAAqwW8s",
        "colab": {
          "base_uri": "https://localhost:8080/"
        },
        "outputId": "143ab225-b745-4050-b718-6f9676e64e6d"
      },
      "source": [
        "history = simple_model.fit(simple_train_gen,simple_val_gen,train_parameters)\n",
        "simple_model.model.save(simple_model_path)"
      ],
      "execution_count": 38,
      "outputs": [
        {
          "output_type": "stream",
          "text": [
            "1773/1773 [==============================] - 261s 146ms/step - loss: 6.0165 - accuracy: 0.1378 - val_loss: 5.4720 - val_accuracy: 0.1836\n"
          ],
          "name": "stdout"
        },
        {
          "output_type": "stream",
          "text": [
            "WARNING:absl:Found untraced functions such as lstm_cell_layer_call_fn, lstm_cell_layer_call_and_return_conditional_losses, lstm_cell_layer_call_fn, lstm_cell_layer_call_and_return_conditional_losses, lstm_cell_layer_call_and_return_conditional_losses while saving (showing 5 of 5). These functions will not be directly callable after loading.\n",
            "WARNING:absl:Found untraced functions such as lstm_cell_layer_call_fn, lstm_cell_layer_call_and_return_conditional_losses, lstm_cell_layer_call_fn, lstm_cell_layer_call_and_return_conditional_losses, lstm_cell_layer_call_and_return_conditional_losses while saving (showing 5 of 5). These functions will not be directly callable after loading.\n"
          ],
          "name": "stderr"
        },
        {
          "output_type": "stream",
          "text": [
            "INFO:tensorflow:Assets written to: simple_model/assets\n"
          ],
          "name": "stdout"
        },
        {
          "output_type": "stream",
          "text": [
            "INFO:tensorflow:Assets written to: simple_model/assets\n"
          ],
          "name": "stderr"
        }
      ]
    },
    {
      "cell_type": "code",
      "metadata": {
        "id": "Pys-kseWi6Fp",
        "colab": {
          "base_uri": "https://localhost:8080/",
          "height": 573
        },
        "outputId": "1746dc80-88d4-4f8a-a5e7-1f8ef4bf619d"
      },
      "source": [
        "show_fit_history(history)"
      ],
      "execution_count": 39,
      "outputs": [
        {
          "output_type": "display_data",
          "data": {
            "image/png": "[encoded data removed]",
            "text/plain": [
              "<Figure size 432x288 with 1 Axes>"
            ]
          },
          "metadata": {
            "tags": [],
            "needs_background": "light"
          }
        },
        {
          "output_type": "display_data",
          "data": {
            "image/png": "[encoded data removed]",
            "text/plain": [
              "<Figure size 432x288 with 1 Axes>"
            ]
          },
          "metadata": {
            "tags": [],
            "needs_background": "light"
          }
        }
      ]
    },
    {
      "cell_type": "markdown",
      "metadata": {
        "id": "Xma1lnqLDWpt"
      },
      "source": [
        "## Approch 2\n",
        "use samples of melody as a sequence. apply RNN on both words and melody, learn the melody features as a sequence of sample notes\n",
        "and then concat the encoded information to the word RNN reult to mix information from languege model and midi types."
      ]
    },
    {
      "cell_type": "markdown",
      "metadata": {
        "id": "ZJHDtHCDDWmU"
      },
      "source": [
        "### build"
      ]
    },
    {
      "cell_type": "code",
      "metadata": {
        "id": "ykJhccvzwZL1"
      },
      "source": [
        "def get_model_complex(voc_index,midi_dim, word2vec_weights):\n",
        "    \"\"\"\n",
        "    Build the Complex RNN ML Model\n",
        "    apply RNN on words and melody and calculate attention on melody and concat \n",
        "    it to the result of the word RNN\n",
        "\n",
        "    :param voc_index: word_index dict (word -> index)\n",
        "    :param midi_dim: melody features shape\n",
        "    :param word2vec_weights: embedding weights generate from word2vec\n",
        "    :return: keras model with the complex arcitecture\n",
        "    \"\"\"\n",
        "    drop_prob = 0.2\n",
        "    voc_size = len(voc_index) + 1\n",
        "\n",
        "    LSTM_UNIT_SIZE = 100\n",
        "    ATTENTION_HEADS = 200\n",
        "    DENSE_SIZE = 1024\n",
        "    ENCODE_MIDI_DIM = 10\n",
        "    dense_act = 'relu'\n",
        "\n",
        "    K.clear_session()\n",
        "    # midi input\n",
        "    midi_input = Input(shape=midi_dim, name=\"melody_encoder_input\")\n",
        "    stm = LSTM(LSTM_UNIT_SIZE)(midi_input)\n",
        "    encode_midi_layer = Dense(ENCODE_MIDI_DIM, activation=dense_act,name=\"encode_midi_layer\")(stm)\n",
        "    drop_out_layer = Dropout(0.8)(encode_midi_layer)\n",
        "    \n",
        "    # word sequence input\n",
        "    seq_input = Input(shape=(MAX_SEQUENCE_LENGTH-1,), name=\"sequence_decoder_input\")\n",
        "    seq_embed = Embedding(voc_size,EMBEDDING_DIM,weights=[word2vec_weights],input_length=MAX_SEQUENCE_LENGTH-1,trainable=False,name='word_embedding_layer')(seq_input)\n",
        "    seq_lstm = LSTM(units=LSTM_UNIT_SIZE,name=\"LSTM_seq_layer\")(seq_embed)\n",
        "\n",
        "    concat_layer = concatenate([drop_out_layer, seq_lstm],name=\"concat_layer\")\n",
        "\n",
        "    out_layer = Dense(voc_size,activation='softmax',name=\"output_prob_layer\")(concat_layer)\n",
        "\n",
        "    model = Model([seq_input,midi_input], out_layer)\n",
        "  \n",
        "    return model"
      ],
      "execution_count": 40,
      "outputs": []
    },
    {
      "cell_type": "code",
      "metadata": {
        "id": "Shpz4xWYXu-J"
      },
      "source": [
        "# complex_model.model = keras.models.load_model(complex_model_path)\n",
        "complex_model = LyricsMidiGenerator(word_index,emb_weights,train_midi_complex_shape,get_model_complex,\"complex model\")"
      ],
      "execution_count": 41,
      "outputs": []
    },
    {
      "cell_type": "code",
      "metadata": {
        "id": "Asm-xH9Ssaij",
        "colab": {
          "base_uri": "https://localhost:8080/"
        },
        "outputId": "658934bc-3eb1-4f45-bb0b-006ae42a5453"
      },
      "source": [
        "complex_train_gen = BatchGenerator(train_folder_path,\"complex\",train_list_IDs,train_list_labels,train_song_index,train_midi_complex_shape)\n",
        "complex_val_gen = BatchGenerator(test_folder_path,\"complex\",test_list_IDs,test_list_labels,test_song_index,test_midi_complex_shape)\n",
        "\n",
        "complex_model.summary()"
      ],
      "execution_count": 42,
      "outputs": [
        {
          "output_type": "stream",
          "text": [
            "Model: \"model\"\n",
            "__________________________________________________________________________________________________\n",
            "Layer (type)                    Output Shape         Param #     Connected to                     \n",
            "==================================================================================================\n",
            "melody_encoder_input (InputLaye [(None, 200, 140)]   0                                            \n",
            "__________________________________________________________________________________________________\n",
            "lstm (LSTM)                     (None, 100)          96400       melody_encoder_input[0][0]       \n",
            "__________________________________________________________________________________________________\n",
            "sequence_decoder_input (InputLa [(None, 4)]          0                                            \n",
            "__________________________________________________________________________________________________\n",
            "encode_midi_layer (Dense)       (None, 10)           1010        lstm[0][0]                       \n",
            "__________________________________________________________________________________________________\n",
            "word_embedding_layer (Embedding (None, 4, 300)       2269200     sequence_decoder_input[0][0]     \n",
            "__________________________________________________________________________________________________\n",
            "dropout (Dropout)               (None, 10)           0           encode_midi_layer[0][0]          \n",
            "__________________________________________________________________________________________________\n",
            "LSTM_seq_layer (LSTM)           (None, 100)          160400      word_embedding_layer[0][0]       \n",
            "__________________________________________________________________________________________________\n",
            "concat_layer (Concatenate)      (None, 110)          0           dropout[0][0]                    \n",
            "                                                                 LSTM_seq_layer[0][0]             \n",
            "__________________________________________________________________________________________________\n",
            "output_prob_layer (Dense)       (None, 7564)         839604      concat_layer[0][0]               \n",
            "==================================================================================================\n",
            "Total params: 3,366,614\n",
            "Trainable params: 1,097,414\n",
            "Non-trainable params: 2,269,200\n",
            "__________________________________________________________________________________________________\n"
          ],
          "name": "stdout"
        }
      ]
    },
    {
      "cell_type": "code",
      "metadata": {
        "id": "vIzEHs-hJfgF",
        "colab": {
          "base_uri": "https://localhost:8080/",
          "height": 644
        },
        "outputId": "be6234a7-11e9-4418-b749-920a8e86f424"
      },
      "source": [
        "complex_model.plot()"
      ],
      "execution_count": 43,
      "outputs": [
        {
          "output_type": "display_data",
          "data": {
            "image/png": "[encoded data removed]",
            "text/plain": [
              "<IPython.core.display.Image object>"
            ]
          },
          "metadata": {
            "tags": []
          }
        }
      ]
    },
    {
      "cell_type": "markdown",
      "metadata": {
        "id": "l8menAHxDWit"
      },
      "source": [
        "### train"
      ]
    },
    {
      "cell_type": "code",
      "metadata": {
        "id": "NQevgv2wBhEM",
        "colab": {
          "base_uri": "https://localhost:8080/"
        },
        "outputId": "c7b1abe7-d066-4741-9a53-b6094cf574b8"
      },
      "source": [
        "complex_model.model.save(os.path.join(\"drive2\",\"MyDrive\",\"deep_ass3\",\"final_final\",complex_model_path))"
      ],
      "execution_count": 44,
      "outputs": [
        {
          "output_type": "stream",
          "text": [
            "WARNING:absl:Found untraced functions such as lstm_cell_layer_call_fn, lstm_cell_layer_call_and_return_conditional_losses, lstm_cell_1_layer_call_fn, lstm_cell_1_layer_call_and_return_conditional_losses, lstm_cell_layer_call_fn while saving (showing 5 of 10). These functions will not be directly callable after loading.\n",
            "WARNING:absl:Found untraced functions such as lstm_cell_layer_call_fn, lstm_cell_layer_call_and_return_conditional_losses, lstm_cell_1_layer_call_fn, lstm_cell_1_layer_call_and_return_conditional_losses, lstm_cell_layer_call_fn while saving (showing 5 of 10). These functions will not be directly callable after loading.\n"
          ],
          "name": "stderr"
        },
        {
          "output_type": "stream",
          "text": [
            "INFO:tensorflow:Assets written to: drive2/MyDrive/deep_ass3/final_final/complex_model/assets\n"
          ],
          "name": "stdout"
        },
        {
          "output_type": "stream",
          "text": [
            "INFO:tensorflow:Assets written to: drive2/MyDrive/deep_ass3/final_final/complex_model/assets\n"
          ],
          "name": "stderr"
        }
      ]
    },
    {
      "cell_type": "code",
      "metadata": {
        "id": "KzJXEGpOwZ7r",
        "colab": {
          "base_uri": "https://localhost:8080/"
        },
        "outputId": "5a936d7d-5929-40f5-9323-ffe64e76538b"
      },
      "source": [
        "history = complex_model.fit(complex_train_gen,complex_val_gen,train_parameters)\n",
        "complex_model.model.save(os.path.join(\"drive\",\"MyDrive\",\"deep_ass3\",\"final_v3\",complex_model_path))"
      ],
      "execution_count": 45,
      "outputs": [
        {
          "output_type": "stream",
          "text": [
            "1773/1773 [==============================] - 2776s 2s/step - loss: 5.6156 - accuracy: 0.1522 - val_loss: 5.3171 - val_accuracy: 0.1898\n"
          ],
          "name": "stdout"
        },
        {
          "output_type": "stream",
          "text": [
            "WARNING:absl:Found untraced functions such as lstm_cell_layer_call_fn, lstm_cell_layer_call_and_return_conditional_losses, lstm_cell_1_layer_call_fn, lstm_cell_1_layer_call_and_return_conditional_losses, lstm_cell_layer_call_fn while saving (showing 5 of 10). These functions will not be directly callable after loading.\n",
            "WARNING:absl:Found untraced functions such as lstm_cell_layer_call_fn, lstm_cell_layer_call_and_return_conditional_losses, lstm_cell_1_layer_call_fn, lstm_cell_1_layer_call_and_return_conditional_losses, lstm_cell_layer_call_fn while saving (showing 5 of 10). These functions will not be directly callable after loading.\n"
          ],
          "name": "stderr"
        },
        {
          "output_type": "stream",
          "text": [
            "INFO:tensorflow:Assets written to: drive/MyDrive/deep_ass3/final_v3/complex_model/assets\n"
          ],
          "name": "stdout"
        },
        {
          "output_type": "stream",
          "text": [
            "INFO:tensorflow:Assets written to: drive/MyDrive/deep_ass3/final_v3/complex_model/assets\n"
          ],
          "name": "stderr"
        }
      ]
    },
    {
      "cell_type": "code",
      "metadata": {
        "id": "kb-Ct4Owi97l",
        "colab": {
          "base_uri": "https://localhost:8080/",
          "height": 573
        },
        "outputId": "7c96be9d-ed4a-4a38-d788-56aea1b96031"
      },
      "source": [
        "show_fit_history(history)"
      ],
      "execution_count": 46,
      "outputs": [
        {
          "output_type": "display_data",
          "data": {
            "image/png": "[encoded data removed]",
            "text/plain": [
              "<Figure size 432x288 with 1 Axes>"
            ]
          },
          "metadata": {
            "tags": [],
            "needs_background": "light"
          }
        },
        {
          "output_type": "display_data",
          "data": {
            "image/png": "[encoded data removed]",
            "text/plain": [
              "<Figure size 432x288 with 1 Axes>"
            ]
          },
          "metadata": {
            "tags": [],
            "needs_background": "light"
          }
        }
      ]
    },
    {
      "cell_type": "markdown",
      "metadata": {
        "id": "YWpDjP2TDWfc"
      },
      "source": [
        "# **Test, Analyze and Compare**"
      ]
    },
    {
      "cell_type": "markdown",
      "metadata": {
        "id": "uY8ejuNAwHdH"
      },
      "source": [
        "## Analyze"
      ]
    },
    {
      "cell_type": "code",
      "metadata": {
        "id": "Z_22Hp_72OQr"
      },
      "source": [
        "def create_lyrics_for_model(model,type_folder_s_name,word_seed_list,test_set,scale):\n",
        "  \"\"\"\n",
        "  Generate lyrics with a given model and data set, use the first word of the\n",
        "  original and a given word_seed_list for each melody\n",
        "  \n",
        "  :param model: model that can generate lyrics\n",
        "  :param type_folder_s_name: type of midi features to use\n",
        "  :param word_seed_list: list with tokens to use as a seed to generate lyrics\n",
        "  :param test_set: data set with melody and lyrics to generate from\n",
        "  :return: list of generated lyrics of form [[lyrics_original_seed,lyrics_seed1,lyrics_seed2,...]]\n",
        "  \"\"\"\n",
        "  generated_lyrics = []\n",
        "\n",
        "  for song_id, row in enumerate(test_set):\n",
        "\n",
        "    generated = []\n",
        "    midi_info = np.load(os.path.join(test_folder_path,type_folder_s_name,midi_f_start_name) + str(song_id) + '.npy')\n",
        "\n",
        "    original_seed = model.index_word[row[TOKENS][0]]\n",
        "    \n",
        "    seed_list = [original_seed]\n",
        "    seed_list.extend(word_seed_list)\n",
        "    \n",
        "    for seed in seed_list:\n",
        "      gen_lyrics = model.generate_song(seed,midi_info,limit=len(row[TOKENS]),random_scale=scale)\n",
        "      generated.append(gen_lyrics)\n",
        "\n",
        "    generated_lyrics.append(generated)\n",
        "\n",
        "  return generated_lyrics"
      ],
      "execution_count": 47,
      "outputs": []
    },
    {
      "cell_type": "code",
      "metadata": {
        "id": "eJtgq53wwM5P"
      },
      "source": [
        "word_seed_list = [\"fear\",\"love\",\"sad\"]\n",
        "random_scale = 20\n",
        "\n",
        "ts_s_generate = time.time()"
      ],
      "execution_count": 48,
      "outputs": []
    },
    {
      "cell_type": "code",
      "metadata": {
        "id": "ZTcLDoggwNaK",
        "colab": {
          "base_uri": "https://localhost:8080/"
        },
        "outputId": "bfb13730-50bb-4768-b1f4-e89cd784fca6"
      },
      "source": [
        "simple_generated_lyrics =  create_lyrics_for_model(simple_model,\"simple\",word_seed_list,test_set,random_scale)\n",
        "\n",
        "ts_c_generate = time.time()\n",
        "print(\"Done Generating {} Lyrics with simple model, {} sec elapsed\".format(len(simple_generated_lyrics) * (len(word_seed_list) + 1),round(ts_c_generate- ts_s_generate,3)))"
      ],
      "execution_count": 49,
      "outputs": [
        {
          "output_type": "stream",
          "text": [
            "Done Generating 20 Lyrics with simple model, 42.569 sec elapsed\n"
          ],
          "name": "stdout"
        }
      ]
    },
    {
      "cell_type": "code",
      "metadata": {
        "id": "rZUPNomswN7s",
        "colab": {
          "base_uri": "https://localhost:8080/"
        },
        "outputId": "f8dd78f4-9fd7-4a85-eb70-d7437c094487"
      },
      "source": [
        "complex_generated_lyrics =   create_lyrics_for_model(complex_model,\"complex\",word_seed_list,test_set,random_scale)\n",
        "\n",
        "print(\"Done Generating {} Lyrics with complex model, {} sec elapsed\".format(len(complex_generated_lyrics) * (len(word_seed_list) + 1),round(time.time()- ts_c_generate,3)))"
      ],
      "execution_count": 50,
      "outputs": [
        {
          "output_type": "stream",
          "text": [
            "Done Generating 20 Lyrics with complex model, 55.855 sec elapsed\n"
          ],
          "name": "stdout"
        }
      ]
    },
    {
      "cell_type": "markdown",
      "metadata": {
        "id": "J95o25fjDV96"
      },
      "source": [
        "## Compare"
      ]
    },
    {
      "cell_type": "code",
      "metadata": {
        "id": "T7zSKISta4N7",
        "colab": {
          "base_uri": "https://localhost:8080/"
        },
        "outputId": "6dad7679-4ec6-4b75-9801-612b2fb2d9d5"
      },
      "source": [
        "index_word = {}\n",
        "simple_lyrics = []\n",
        "complex_lyrics = []\n",
        "for word, index in word_index.items():\n",
        "  index_word[index] = word\n",
        "\n",
        "for song_id, row in enumerate(test_set):\n",
        "  print(\"=\" * 15)\n",
        "  print()\n",
        "  print(\"Generating Lyrics for '{}' by '{}'\".format(row[SONG_NAME],row[AUTHOR]))\n",
        "  print()\n",
        "  for i in range(len(word_seed_list) + 1): # for original\n",
        "    print(\"-\" * 10)\n",
        "    if i == 0: # Original seed\n",
        "      print(\"Original Lyric Seed: {}\".format(index_word[row[TOKENS][0]]))\n",
        "    else:\n",
        "      print(\"Seed: {}\".format(word_seed_list[i-1]))\n",
        "    print()\n",
        "\n",
        "    simple_tokens = simple_generated_lyrics[song_id][i]\n",
        "    complex_tokens = complex_generated_lyrics[song_id][i]\n",
        "\n",
        "    print(\">> Simple Model Lyrics:\")\n",
        "    simple_text_lyrics = \" \".join(simple_tokens)\n",
        "    simple_text_lyrics = simple_text_lyrics.replace(SENTENCE_DELIMITER + \" \" + SENTENCE_DELIMITER,SENTENCE_DELIMITER)\n",
        "    simple_text_lyrics = simple_text_lyrics.replace(\" \" + SENTENCE_DELIMITER,\"\\n\")\n",
        "    simple_text_lyrics = simple_text_lyrics.replace(\" \" + LYRICS_END,\"\\n\")\n",
        "    simple_lyrics.append(simple_text_lyrics)\n",
        "    print(simple_text_lyrics)\n",
        "    print()\n",
        "    print(\">> Complex Model Lyrics:\")\n",
        "    complex_text_lyrics = \" \".join(complex_tokens)\n",
        "    complex_text_lyrics = complex_text_lyrics.replace(SENTENCE_DELIMITER + \" \" + SENTENCE_DELIMITER,SENTENCE_DELIMITER)\n",
        "    complex_text_lyrics = complex_text_lyrics.replace(\" \" + SENTENCE_DELIMITER,\"\\n\")\n",
        "    complex_text_lyrics = complex_text_lyrics.replace(\" \" + LYRICS_END,\"\\n\")\n",
        "    complex_lyrics.append(complex_text_lyrics)\n",
        "    print(complex_text_lyrics)\n",
        "    print(\"-\" * 10)\n",
        "  print()\n",
        "  print(\"=\" * 15)"
      ],
      "execution_count": 81,
      "outputs": [
        {
          "output_type": "stream",
          "text": [
            "===============\n",
            "\n",
            "Generating Lyrics for 'eternal flame' by 'the bangles'\n",
            "\n",
            "----------\n",
            "Original Lyric Seed: close\n",
            "\n",
            ">> Simple Model Lyrics:\n",
            "close\n",
            " im dont get a little\n",
            " i just so\n",
            " i got a song\n",
            " im gonna\n",
            " you got to make me\n",
            " when if you want be you go to see\n",
            "\n",
            "\n",
            "\n",
            ">> Complex Model Lyrics:\n",
            "close\n",
            " cause the morning\n",
            " i cant want a man is it in an the day\n",
            " that i could you have to do\n",
            " i was the one day\n",
            " and its a time\n",
            " and you can to be all\n",
            " you will know its time\n",
            " and the way i feel my world of the time\n",
            " its gonna to be this world\n",
            " i do you want\n",
            " its the time\n",
            "\n",
            "\n",
            "----------\n",
            "----------\n",
            "Seed: fear\n",
            "\n",
            ">> Simple Model Lyrics:\n",
            "fear to the life\n",
            " and i know you feel\n",
            " but a chance of the\n",
            " in the same man for the a man\n",
            " i can go on me that it and a man that\n",
            "\n",
            "\n",
            "\n",
            ">> Complex Model Lyrics:\n",
            "fear\n",
            " but you feel i want you be right\n",
            " and we will the all\n",
            " and they dont you want\n",
            " and youre so in the end you cant\n",
            "\n",
            "\n",
            "----------\n",
            "----------\n",
            "Seed: love\n",
            "\n",
            ">> Simple Model Lyrics:\n",
            "love\n",
            " and tell me the love to have\n",
            " you know you want to be\n",
            "\n",
            "\n",
            "\n",
            ">> Complex Model Lyrics:\n",
            "love\n",
            " i never can be the world of a man\n",
            " i was all the way now its a man\n",
            " but it i am not\n",
            " you dont know i could be the\n",
            "\n",
            "\n",
            "----------\n",
            "----------\n",
            "Seed: sad\n",
            "\n",
            ">> Simple Model Lyrics:\n",
            "sad\n",
            " its\n",
            "\n",
            "\n",
            "\n",
            ">> Complex Model Lyrics:\n",
            "sad that one of hollywood\n",
            " and the night\n",
            " i feel a friend of the way\n",
            " the way it to do\n",
            " i really to make you\n",
            " i just never do\n",
            "\n",
            "\n",
            "----------\n",
            "\n",
            "===============\n",
            "===============\n",
            "\n",
            "Generating Lyrics for 'honesty' by 'billy joel'\n",
            "\n",
            "----------\n",
            "Original Lyric Seed: if\n",
            "\n",
            ">> Simple Model Lyrics:\n",
            "if\n",
            " to the your face\n",
            "\n",
            "\n",
            "\n",
            ">> Complex Model Lyrics:\n",
            "if im got on you\n",
            " its a new day of this\n",
            " but if i dont need it the way\n",
            " if is not you want it\n",
            " i dont think me\n",
            " you know you were this\n",
            " and i was a way\n",
            " just that i have i never want to be a friend\n",
            "\n",
            "\n",
            "----------\n",
            "----------\n",
            "Seed: fear\n",
            "\n",
            ">> Simple Model Lyrics:\n",
            "fear that i do to take it\n",
            "\n",
            "\n",
            "\n",
            ">> Complex Model Lyrics:\n",
            "fear\n",
            "\n",
            "\n",
            "----------\n",
            "----------\n",
            "Seed: love\n",
            "\n",
            ">> Simple Model Lyrics:\n",
            "love for you want you\n",
            " i was so a chance\n",
            " i dont do you go down\n",
            " you was the way of time\n",
            " when\n",
            " when i need to me a friend of his night\n",
            " i got it the\n",
            " and i know\n",
            " i got\n",
            " you can to make the time\n",
            " its a song of you\n",
            "\n",
            "\n",
            "\n",
            ">> Complex Model Lyrics:\n",
            "love you\n",
            " i cant never never have to me\n",
            " its time and i was gonna for me\n",
            " i can love you dont\n",
            " my love\n",
            " and if you know my head\n",
            " to me it\n",
            " so the to be\n",
            " i just love you\n",
            "\n",
            "\n",
            "----------\n",
            "----------\n",
            "Seed: sad\n",
            "\n",
            ">> Simple Model Lyrics:\n",
            "sad\n",
            " oh im gonna for me on the world is me\n",
            " its the of the\n",
            " and my own\n",
            " im in the world\n",
            " i can never say the a dream in a lot and youre\n",
            " you want to the the heart\n",
            " and i been never\n",
            " dont make me like it to you be the world to go and tell it you\n",
            " and the of the world\n",
            "\n",
            "\n",
            "\n",
            ">> Complex Model Lyrics:\n",
            "sad you feel\n",
            " i have to say\n",
            " when its been the one in the night\n",
            " if i need it what i was all\n",
            " i just to be\n",
            " when i can see this the of hollywood\n",
            " i got to have\n",
            "\n",
            "\n",
            "----------\n",
            "\n",
            "===============\n",
            "===============\n",
            "\n",
            "Generating Lyrics for 'lovefool' by 'cardigans'\n",
            "\n",
            "----------\n",
            "Original Lyric Seed: dear\n",
            "\n",
            ">> Simple Model Lyrics:\n",
            "dear and you can want to make me i can\n",
            " i need it it\n",
            " and i can be\n",
            " you need to me\n",
            " i have\n",
            "\n",
            "\n",
            "\n",
            ">> Complex Model Lyrics:\n",
            "dear\n",
            " i know my a girl\n",
            " you just me dont want to be\n",
            " now it is you are to you\n",
            " but i feel that\n",
            " we just a friend\n",
            " you feel you and im been a time to be mine\n",
            " i know\n",
            " no i say you\n",
            " that you be the one day\n",
            "\n",
            "\n",
            "----------\n",
            "----------\n",
            "Seed: fear\n",
            "\n",
            ">> Simple Model Lyrics:\n",
            "fear\n",
            "\n",
            "\n",
            "\n",
            ">> Complex Model Lyrics:\n",
            "fear\n",
            " and its not\n",
            " i dont see you just\n",
            " i cant never know\n",
            " youre the in you\n",
            "\n",
            "\n",
            "----------\n",
            "----------\n",
            "Seed: love\n",
            "\n",
            ">> Simple Model Lyrics:\n",
            "love\n",
            " oh its love in the night\n",
            " and we i feel my head\n",
            " i feel i want do my\n",
            "\n",
            "\n",
            "\n",
            ">> Complex Model Lyrics:\n",
            "love it\n",
            " to love you\n",
            " you know you be\n",
            " so the way to go\n",
            "\n",
            "\n",
            "----------\n",
            "----------\n",
            "Seed: sad\n",
            "\n",
            ">> Simple Model Lyrics:\n",
            "sad for me\n",
            " cause i love you be the\n",
            " i got to make me it\n",
            "\n",
            "\n",
            "\n",
            ">> Complex Model Lyrics:\n",
            "sad love\n",
            " you need to know the time\n",
            "\n",
            "\n",
            "----------\n",
            "\n",
            "===============\n",
            "===============\n",
            "\n",
            "Generating Lyrics for 'barbie girl' by 'aqua'\n",
            "\n",
            "----------\n",
            "Original Lyric Seed: hiya\n",
            "\n",
            ">> Simple Model Lyrics:\n",
            "hiya yeah that can be\n",
            " in on me that\n",
            " i feel me\n",
            " and me\n",
            " and its my love\n",
            " you want me in me\n",
            " but the\n",
            "\n",
            "\n",
            "\n",
            ">> Complex Model Lyrics:\n",
            "hiya\n",
            " and then we just is in the way\n",
            " and he are a girl girl\n",
            " so you do the time\n",
            " when you feel the\n",
            "\n",
            "\n",
            "----------\n",
            "----------\n",
            "Seed: fear\n",
            "\n",
            ">> Simple Model Lyrics:\n",
            "fear you\n",
            " oh oh when i know i know for my heart\n",
            " oh the a way to the\n",
            " to be\n",
            " and i do to the\n",
            " but i love a chance\n",
            " you know\n",
            " i know that i was the the way to do you\n",
            " i never want you\n",
            " do a big on my mind of the\n",
            " so all the one of your own\n",
            " and the of my arms and i love you\n",
            " you have a time\n",
            "\n",
            "\n",
            "\n",
            ">> Complex Model Lyrics:\n",
            "fear\n",
            " cause i do you have the day\n",
            "\n",
            "\n",
            "----------\n",
            "----------\n",
            "Seed: love\n",
            "\n",
            ">> Simple Model Lyrics:\n",
            "love\n",
            " and the world\n",
            " and tell me that\n",
            " so it youre\n",
            " cause i love that i say my heart\n",
            " the world\n",
            " and the one on on and i want to be\n",
            " and its way\n",
            " dont you know for me for me\n",
            " and i know you dont do be a hero\n",
            " you can get me\n",
            " we can see her life\n",
            " im in the the\n",
            " and you say im gonna for\n",
            " and i say that its time\n",
            " so my love i never see\n",
            " i got to the day and then\n",
            " my own\n",
            " and the in the life\n",
            " i do to you to the love\n",
            " oh its only for the world\n",
            " oh i need a life\n",
            " i dont want you want to the your\n",
            " and a new life to the\n",
            " but im the heart and they dont want to the a hero on my way im love\n",
            " i am\n",
            " dont know to the to make you see you to do to you say that im just\n",
            " and a little\n",
            " and it\n",
            " i feel the the time\n",
            " just the night\n",
            " and im dont say i want to find the eyes\n",
            " so i feel me\n",
            " i dont be to me\n",
            " oh i been i was so is it\n",
            " to you to tell it\n",
            " you can to do i can you have my body of my love im a man\n",
            "\n",
            "\n",
            "\n",
            ">> Complex Model Lyrics:\n",
            "love you\n",
            " oh its been time\n",
            " i think to get to get your mind\n",
            " i just that the world was\n",
            " we would know i love to find it\n",
            " i got in\n",
            " its a place\n",
            " cause its love\n",
            " when youre a friend\n",
            "\n",
            "\n",
            "----------\n",
            "----------\n",
            "Seed: sad\n",
            "\n",
            ">> Simple Model Lyrics:\n",
            "sad that you know\n",
            " and i dont you to be the in\n",
            " i dont know you want you\n",
            " i been i have\n",
            " we want to make the love i was your heart\n",
            " but a time to me you got out\n",
            " the world and tell me\n",
            " dont you know for you\n",
            " its just\n",
            "\n",
            "\n",
            "\n",
            ">> Complex Model Lyrics:\n",
            "sad\n",
            " cause i think\n",
            " when im not you want to be the way\n",
            " i gotta know i never i can never\n",
            " i just that to do it what is\n",
            " you never never ever say you can make the things for me\n",
            " its not never you\n",
            " never knew you go\n",
            " you can see\n",
            " but the night of love and me\n",
            " i dont see that you dont be a bottle in the world\n",
            " you want you say that the sun of me\n",
            " i just cant make you love like me\n",
            " you want to you\n",
            " you know\n",
            " i need a dream is all to love\n",
            " oh i can i just wanna know my baby and i have you say my love with the way\n",
            " its not to be a time\n",
            " so you never will be this day of time\n",
            " that you feel me\n",
            "\n",
            "\n",
            "----------\n",
            "\n",
            "===============\n",
            "===============\n",
            "\n",
            "Generating Lyrics for 'all the small things' by 'blink 182'\n",
            "\n",
            "----------\n",
            "Original Lyric Seed: all\n",
            "\n",
            ">> Simple Model Lyrics:\n",
            "all love its time\n",
            " to be with the world of in\n",
            " i got the way to be your head\n",
            " if a little of me\n",
            " im dont to the\n",
            " but you dont make me\n",
            " the love that in the world\n",
            " its all\n",
            " and if i want a new to the of my mind to the\n",
            " i dont see the way and it that i need you want to get the way\n",
            " its\n",
            " oh\n",
            " oh in the way to see the a song with the the world\n",
            " i love to be with the your mind\n",
            " im sorry oh\n",
            " oh\n",
            "\n",
            "\n",
            "\n",
            ">> Complex Model Lyrics:\n",
            "all i just to say the night\n",
            " when the one to me\n",
            " i can do me all is\n",
            " you dont want to find your to do\n",
            " its got and they were to me\n",
            " im always\n",
            " what i will i never could never love you feel\n",
            " i was gonna be\n",
            " so i want it\n",
            " so you see it a new\n",
            " im no to me\n",
            " all you just\n",
            " to be that i want me\n",
            " you can to be your mind\n",
            " if you never go all me in\n",
            " oh oh\n",
            " i love you need\n",
            " to the day\n",
            " its the time and i do\n",
            " when me to make\n",
            " cause you need for\n",
            " i know it all you\n",
            " i cant be so you\n",
            " i wanna make me to be with it\n",
            " you are a song and my\n",
            " i cant be\n",
            " so we are a way to say\n",
            " i can be\n",
            " to know youre all\n",
            " cause i know\n",
            " youre got a song in love\n",
            "\n",
            "\n",
            "----------\n",
            "----------\n",
            "Seed: fear\n",
            "\n",
            ">> Simple Model Lyrics:\n",
            "fear\n",
            " i need to be\n",
            "\n",
            "\n",
            "\n",
            ">> Complex Model Lyrics:\n",
            "fear me and i cant have you\n",
            " cause its the world\n",
            " and a lot is right you to love you say you\n",
            " oh why that we could make it i have to say\n",
            " you just the a big day\n",
            " when i can be the you\n",
            "\n",
            "\n",
            "----------\n",
            "----------\n",
            "Seed: love\n",
            "\n",
            ">> Simple Model Lyrics:\n",
            "love to stay\n",
            "\n",
            "\n",
            "\n",
            ">> Complex Model Lyrics:\n",
            "love you just you\n",
            "\n",
            "\n",
            "----------\n",
            "----------\n",
            "Seed: sad\n",
            "\n",
            ">> Simple Model Lyrics:\n",
            "sad\n",
            " i got to the\n",
            " i know yeah oh you can be all\n",
            " just me\n",
            " if i see\n",
            "\n",
            "\n",
            "\n",
            ">> Complex Model Lyrics:\n",
            "sad for my head\n",
            " its the of the one one time\n",
            " i dont think to be here\n",
            " i never got in the world\n",
            " the night\n",
            " and i can love you\n",
            " do you can be it\n",
            " to live the way you say\n",
            " oh im a new\n",
            " for you dont get for me\n",
            " you can want to live\n",
            " now the the day\n",
            "\n",
            "\n",
            "----------\n",
            "\n",
            "===============\n"
          ],
          "name": "stdout"
        }
      ]
    },
    {
      "cell_type": "code",
      "metadata": {
        "id": "B2WN2vfDNJ9u",
        "colab": {
          "base_uri": "https://localhost:8080/"
        },
        "outputId": "0669f4bb-7c70-4288-afb8-d36a09eeee99"
      },
      "source": [
        "!pip install afinn"
      ],
      "execution_count": 52,
      "outputs": [
        {
          "output_type": "stream",
          "text": [
            "Requirement already satisfied: afinn in /usr/local/lib/python3.7/dist-packages (0.1)\n"
          ],
          "name": "stdout"
        }
      ]
    },
    {
      "cell_type": "code",
      "metadata": {
        "id": "iZTI7OCoNULM",
        "colab": {
          "base_uri": "https://localhost:8080/"
        },
        "outputId": "48b08916-8a51-4fe5-acc4-242176912473"
      },
      "source": [
        "from afinn import Afinn\n",
        "afinn = Afinn()\n",
        "\n",
        "# get the sentiment score for each seed word\n",
        "word_scores = []\n",
        "for word in word_seed_list:\n",
        "  score = afinn.score(word)\n",
        "  word_scores.append(score)\n",
        "  print('word: ' + word + ', ' + 'score: ' + str(score))\n",
        "# word_scores"
      ],
      "execution_count": 82,
      "outputs": [
        {
          "output_type": "stream",
          "text": [
            "word: fear, score: -2.0\n",
            "word: love, score: 3.0\n",
            "word: sad, score: -2.0\n"
          ],
          "name": "stdout"
        }
      ]
    },
    {
      "cell_type": "markdown",
      "metadata": {
        "id": "DCcKm8PUNcdf"
      },
      "source": [
        "analysis the output by sentiment analysis:"
      ]
    },
    {
      "cell_type": "code",
      "metadata": {
        "id": "qeS1FIw0NYky",
        "colab": {
          "base_uri": "https://localhost:8080/"
        },
        "outputId": "33d1195f-2909-4472-8a7d-1e6f91145875"
      },
      "source": [
        "# check sentiment for the simple model output\n",
        "sad_score = 0\n",
        "love_score = 0\n",
        "fear_score = 0\n",
        "for output in simple_lyrics:\n",
        "  if output.split(' ')[0] == 'sad':\n",
        "    sad_score += afinn.score(output)\n",
        "  elif output.split(' ')[0] == 'love':\n",
        "    love_score += afinn.score(output)\n",
        "  elif output.split(' ')[0] == 'fear':\n",
        "    fear_score += afinn.score(output)\n",
        "print('sad sentiment score: ' + str(sad_score / 5))\n",
        "print('love sentiment score: ' + str(love_score / 5))\n",
        "print('fear sentiment score: ' + str(fear_score / 5))"
      ],
      "execution_count": 83,
      "outputs": [
        {
          "output_type": "stream",
          "text": [
            "sad sentiment score: 0.8\n",
            "love sentiment score: 2.0\n",
            "fear sentiment score: 1.2\n"
          ],
          "name": "stdout"
        }
      ]
    },
    {
      "cell_type": "code",
      "metadata": {
        "id": "ptHwxN19-2YS"
      },
      "source": [
        "sentiment_df = pd.DataFrame(columns=['fear', 'love', 'sad'])\n",
        "sad_score = 0\n",
        "love_score = 0\n",
        "fear_score = 0\n",
        "for output in simple_lyrics:\n",
        "  if output.split(' ')[0] == 'fear':\n",
        "    sad_score += afinn.score(output)\n",
        "  elif output.split(' ')[0] == 'love':\n",
        "    love_score += afinn.score(output)\n",
        "  elif output.split(' ')[0] == 'sad':\n",
        "    fear_score += afinn.score(output)"
      ],
      "execution_count": 84,
      "outputs": []
    },
    {
      "cell_type": "code",
      "metadata": {
        "id": "f15SAICHNeu3",
        "colab": {
          "base_uri": "https://localhost:8080/"
        },
        "outputId": "511d80dd-5bdf-4356-a2fb-101da45af63e"
      },
      "source": [
        "# check sentiment for the complex model output\n",
        "sad_score = 0\n",
        "love_score = 0\n",
        "fear_score = 0\n",
        "for output in complex_lyrics:\n",
        "  if output.split(' ')[0] == 'sad':\n",
        "    sad_score += afinn.score(output)\n",
        "  elif output.split(' ')[0] == 'love':\n",
        "    love_score += afinn.score(output)\n",
        "  elif output.split(' ')[0] == 'fear':\n",
        "    fear_score += afinn.score(output)\n",
        "print('sad sentiment score: ' + str(sad_score / 5))\n",
        "print('love sentiment score: ' + str(love_score / 5))\n",
        "print('fear sentiment score: ' + str(fear_score / 5))"
      ],
      "execution_count": 85,
      "outputs": [
        {
          "output_type": "stream",
          "text": [
            "sad sentiment score: 0.0\n",
            "love sentiment score: 6.2\n",
            "fear sentiment score: 0.4\n"
          ],
          "name": "stdout"
        }
      ]
    },
    {
      "cell_type": "markdown",
      "metadata": {
        "id": "038KLeiVNjNe"
      },
      "source": [
        "analysis the output by cosine similarity:"
      ]
    },
    {
      "cell_type": "code",
      "metadata": {
        "id": "aCt42TSuNjsq",
        "colab": {
          "base_uri": "https://localhost:8080/"
        },
        "outputId": "5070873a-2569-451e-95af-13ad7515b659"
      },
      "source": [
        "# measure the similarity between two sentences using cosine similarity.\n",
        "import nltk\n",
        "nltk.download('punkt')\n",
        "nltk.download('stopwords')\n",
        "from nltk.corpus import stopwords\n",
        "from nltk.tokenize import word_tokenize"
      ],
      "execution_count": 56,
      "outputs": [
        {
          "output_type": "stream",
          "text": [
            "[nltk_data] Downloading package punkt to /root/nltk_data...\n",
            "[nltk_data]   Package punkt is already up-to-date!\n",
            "[nltk_data] Downloading package stopwords to /root/nltk_data...\n",
            "[nltk_data]   Package stopwords is already up-to-date!\n"
          ],
          "name": "stdout"
        }
      ]
    },
    {
      "cell_type": "code",
      "metadata": {
        "id": "ByxfNF73NmXw"
      },
      "source": [
        "def calculate_cosine_similarity(s1, s2):\n",
        "  # tokenization\n",
        "  X_list = word_tokenize(s1) \n",
        "  Y_list = word_tokenize(s2)\n",
        "\n",
        "  # sw contains the list of stopwords\n",
        "  sw = stopwords.words('english') \n",
        "  l1 =[];l2 =[]\n",
        "\n",
        "  # remove stop words from the string\n",
        "  X_set = {w for w in X_list if not w in sw} \n",
        "  Y_set = {w for w in Y_list if not w in sw}\n",
        "\n",
        "  # form a set containing keywords of both strings \n",
        "  rvector = X_set.union(Y_set) \n",
        "  for w in rvector:\n",
        "      if w in X_set: l1.append(1) # create a vector\n",
        "      else: l1.append(0)\n",
        "      if w in Y_set: l2.append(1)\n",
        "      else: l2.append(0)\n",
        "  c = 0\n",
        "\n",
        "  # cosine formula \n",
        "  for i in range(len(rvector)):\n",
        "          c+= l1[i]*l2[i]\n",
        "  cosine = c / float((sum(l1)*sum(l2))**0.5)\n",
        "  return cosine"
      ],
      "execution_count": 57,
      "outputs": []
    },
    {
      "cell_type": "code",
      "metadata": {
        "id": "X7zptsjdNn73"
      },
      "source": [
        "import pandas as pd"
      ],
      "execution_count": 58,
      "outputs": []
    },
    {
      "cell_type": "code",
      "metadata": {
        "id": "LhdT2G9QKm_C",
        "outputId": "83b19567-9fe8-4d60-fb81-02706bcefdfb",
        "colab": {
          "base_uri": "https://localhost:8080/",
          "height": 204
        }
      },
      "source": [
        "songs_names = [test_set[0][1], test_set[1][1], test_set[2][1], test_set[3][1], test_set[4][1]]\n",
        "similarity_df = pd.DataFrame(index=songs_names, columns=['original', 'fear', 'love', 'sad'])\n",
        "for i in range(5): # there are 5 songs in the test set\n",
        "  row = []\n",
        "  for j in range(4): # there are 4 outputs for each song\n",
        "    sim = calculate_cosine_similarity(test_set[i][2], simple_lyrics[i*j + j])\n",
        "    row.append(sim)\n",
        "  similarity_df.loc[test_set[i][1]] = row\n",
        "similarity_df"
      ],
      "execution_count": 80,
      "outputs": [
        {
          "output_type": "execute_result",
          "data": {
            "text/html": [
              "<div>\n",
              "<style scoped>\n",
              "    .dataframe tbody tr th:only-of-type {\n",
              "        vertical-align: middle;\n",
              "    }\n",
              "\n",
              "    .dataframe tbody tr th {\n",
              "        vertical-align: top;\n",
              "    }\n",
              "\n",
              "    .dataframe thead th {\n",
              "        text-align: right;\n",
              "    }\n",
              "</style>\n",
              "<table border=\"1\" class=\"dataframe\">\n",
              "  <thead>\n",
              "    <tr style=\"text-align: right;\">\n",
              "      <th></th>\n",
              "      <th>original</th>\n",
              "      <th>fear</th>\n",
              "      <th>love</th>\n",
              "      <th>sad</th>\n",
              "    </tr>\n",
              "  </thead>\n",
              "  <tbody>\n",
              "    <tr>\n",
              "      <th>eternal flame</th>\n",
              "      <td>0.140642</td>\n",
              "      <td>0.127775</td>\n",
              "      <td>0.0845154</td>\n",
              "      <td>0</td>\n",
              "    </tr>\n",
              "    <tr>\n",
              "      <th>honesty</th>\n",
              "      <td>0.103203</td>\n",
              "      <td>0.248069</td>\n",
              "      <td>0.124035</td>\n",
              "      <td>0.198898</td>\n",
              "    </tr>\n",
              "    <tr>\n",
              "      <th>lovefool</th>\n",
              "      <td>0.111187</td>\n",
              "      <td>0</td>\n",
              "      <td>0.25</td>\n",
              "      <td>0.133631</td>\n",
              "    </tr>\n",
              "    <tr>\n",
              "      <th>barbie girl</th>\n",
              "      <td>0.131662</td>\n",
              "      <td>0</td>\n",
              "      <td>0.118678</td>\n",
              "      <td>0.265372</td>\n",
              "    </tr>\n",
              "    <tr>\n",
              "      <th>all the small things</th>\n",
              "      <td>0.121367</td>\n",
              "      <td>0.103142</td>\n",
              "      <td>0.119098</td>\n",
              "      <td>0.0439799</td>\n",
              "    </tr>\n",
              "  </tbody>\n",
              "</table>\n",
              "</div>"
            ],
            "text/plain": [
              "                      original      fear       love        sad\n",
              "eternal flame         0.140642  0.127775  0.0845154          0\n",
              "honesty               0.103203  0.248069   0.124035   0.198898\n",
              "lovefool              0.111187         0       0.25   0.133631\n",
              "barbie girl           0.131662         0   0.118678   0.265372\n",
              "all the small things  0.121367  0.103142   0.119098  0.0439799"
            ]
          },
          "metadata": {
            "tags": []
          },
          "execution_count": 80
        }
      ]
    },
    {
      "cell_type": "code",
      "metadata": {
        "id": "xPxnvxDzKSU8",
        "outputId": "f9f045ec-cb62-4f72-dc08-95f7a542191f",
        "colab": {
          "base_uri": "https://localhost:8080/",
          "height": 204
        }
      },
      "source": [
        "songs_names = [test_set[0][1], test_set[1][1], test_set[2][1], test_set[3][1], test_set[4][1]]\n",
        "similarity_df = pd.DataFrame(index=songs_names, columns=['original', 'fear', 'love', 'sad'])\n",
        "for i in range(5): # there are 5 songs in the test set\n",
        "  row = []\n",
        "  for j in range(4): # there are 4 outputs for each song\n",
        "    sim = calculate_cosine_similarity(test_set[i][2], complex_lyrics[i*j + j])\n",
        "    row.append(sim)\n",
        "  similarity_df.loc[test_set[i][1]] = row\n",
        "similarity_df"
      ],
      "execution_count": 79,
      "outputs": [
        {
          "output_type": "execute_result",
          "data": {
            "text/html": [
              "<div>\n",
              "<style scoped>\n",
              "    .dataframe tbody tr th:only-of-type {\n",
              "        vertical-align: middle;\n",
              "    }\n",
              "\n",
              "    .dataframe tbody tr th {\n",
              "        vertical-align: top;\n",
              "    }\n",
              "\n",
              "    .dataframe thead th {\n",
              "        text-align: right;\n",
              "    }\n",
              "</style>\n",
              "<table border=\"1\" class=\"dataframe\">\n",
              "  <thead>\n",
              "    <tr style=\"text-align: right;\">\n",
              "      <th></th>\n",
              "      <th>original</th>\n",
              "      <th>fear</th>\n",
              "      <th>love</th>\n",
              "      <th>sad</th>\n",
              "    </tr>\n",
              "  </thead>\n",
              "  <tbody>\n",
              "    <tr>\n",
              "      <th>eternal flame</th>\n",
              "      <td>0.126773</td>\n",
              "      <td>0.179284</td>\n",
              "      <td>0.0597614</td>\n",
              "      <td>0.0534522</td>\n",
              "    </tr>\n",
              "    <tr>\n",
              "      <th>honesty</th>\n",
              "      <td>0.124035</td>\n",
              "      <td>0.131559</td>\n",
              "      <td>0.214834</td>\n",
              "      <td>0.124035</td>\n",
              "    </tr>\n",
              "    <tr>\n",
              "      <th>lovefool</th>\n",
              "      <td>0.167038</td>\n",
              "      <td>0.126773</td>\n",
              "      <td>0.178174</td>\n",
              "      <td>0.202031</td>\n",
              "    </tr>\n",
              "    <tr>\n",
              "      <th>barbie girl</th>\n",
              "      <td>0.0890086</td>\n",
              "      <td>0.102778</td>\n",
              "      <td>0.197492</td>\n",
              "      <td>0.159223</td>\n",
              "    </tr>\n",
              "    <tr>\n",
              "      <th>all the small things</th>\n",
              "      <td>0.109399</td>\n",
              "      <td>0</td>\n",
              "      <td>0.145865</td>\n",
              "      <td>0.150094</td>\n",
              "    </tr>\n",
              "  </tbody>\n",
              "</table>\n",
              "</div>"
            ],
            "text/plain": [
              "                       original      fear       love        sad\n",
              "eternal flame          0.126773  0.179284  0.0597614  0.0534522\n",
              "honesty                0.124035  0.131559   0.214834   0.124035\n",
              "lovefool               0.167038  0.126773   0.178174   0.202031\n",
              "barbie girl           0.0890086  0.102778   0.197492   0.159223\n",
              "all the small things   0.109399         0   0.145865   0.150094"
            ]
          },
          "metadata": {
            "tags": []
          },
          "execution_count": 79
        }
      ]
    },
    {
      "cell_type": "code",
      "metadata": {
        "id": "FzG2nd8oNujG",
        "colab": {
          "base_uri": "https://localhost:8080/"
        },
        "outputId": "aec1b11b-5d62-4ddf-df20-9424fb0c053b"
      },
      "source": [
        "songs_score = []\n",
        "for output in simple_lyrics:\n",
        "  if output.split(' ')[0] == 'sad':\n",
        "    sad_score += afinn.score(output)\n",
        "  elif output.split(' ')[0] == 'love':\n",
        "    love_score += afinn.score(output)\n",
        "  elif output.split(' ')[0] == 'fear':\n",
        "    fear_score += afinn.score(output)\n",
        "print('sad score: ' + str(sad_score))\n",
        "print('love score: ' + str(love_score))\n",
        "print('fear score: ' + str(fear_score))"
      ],
      "execution_count": 61,
      "outputs": [
        {
          "output_type": "stream",
          "text": [
            "sad score: 4.0\n",
            "love score: 41.0\n",
            "fear score: 8.0\n"
          ],
          "name": "stdout"
        }
      ]
    }
  ]
}